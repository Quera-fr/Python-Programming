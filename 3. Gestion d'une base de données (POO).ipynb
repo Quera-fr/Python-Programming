{
 "cells": [
  {
   "cell_type": "markdown",
   "metadata": {
    "id": "GwqrctSu97v5"
   },
   "source": [
    "# 1. Manipulation d'une bibliothèque : [Pandas](https://pandas.pydata.org/)\n",
    "\n",
    "La bibliothèque pandas est une bibliothèque open-source Python très populaire et puissante utilisée pour la manipulation et l'analyse de données.\n",
    "\n",
    "<img src='https://www.adictosaltrabajo.com/wp-content/uploads/2020/12/1200px-Pandas_logo.svg_.png' width=500>\n",
    "\n",
    "\n",
    "Elle offre des structures de données flexibles et performantes pour travailler avec des données tabulaires, telles que des tableaux et des feuilles de calcul, ainsi que des outils pour effectuer des opérations de manipulation, de nettoyage et d'analyse de données.\n",
    "\n",
    "Voici quelques caractéristiques clés de la bibliothèque pandas :\n",
    "\n",
    "- Chargement et sauvegarde de données depuis/vers divers formats tels que CSV, Excel, SQL, et plus encore.\n",
    "- Sélection, filtrage et tri des données.\n",
    "- Ajout, suppression et modification de colonnes.\n",
    "- Agrégation et regroupement de données.\n",
    "- Fusion et concaténation de DataFrames.\n",
    "- Manipulation de données manquantes (supression, remplacement)\n",
    "- Calcul des statistiques descriptives.\n",
    "- Calcul de la corrélation entre les colonnes.\n",
    "- Intégration avec d'autres bibliothèques de visualisation comme Matplotlib et Seaborn.\n",
    "- Facilité d'affichage de graphiques et de visualisations à partir de données pandas.\n",
    "\n",
    "Pandas est construit sur la bibliothèque NumPy, ce qui lui confère une grande performance et une intégration transparente avec d'autres outils scientifiques en Python.\n",
    "\n",
    "<img src='https://img.freepik.com/free-vector/business-documents-scanning-electronic-online-doc-with-pie-chart-infographics-data-analytics-annual-report-result-checking-man-with-magnifying-glass-concept-illustration_335657-1770.jpg?w=2000' width=500>\n",
    "\n",
    "\n",
    "> **Notre objectif est de visualiser la répartition de ces données.**\n",
    "\n",
    "Dans cette partie notre objectifs est d'explorer le jeu de données contenant les informations clients.\n",
    "\n",
    "\n",
    "\n",
    "\n",
    "**1.1 Installation et import de la bibliothèque `pandas`**\n",
    "\n",
    "\n",
    "Dans un premier temps nous installons la bibliothèque `pandas` conçue pour la manipulation de données. Pour cela nous executons dans le terminal la commande suivante :\n",
    "\n",
    "  - **Sur Windows** :\n",
    "  > `pip install pandas`\n",
    "\n",
    "\n",
    "  - **Sur macOS** :\n",
    "  > `pip3 install pandas`\n",
    "\n",
    "\n",
    "  - **Téléchargement du jeu de données** :\n",
    "  > Nous téléchargerons le jeu de données à l'adresse [suivante](https://drive.google.com/file/d/13EpnupLYyUBs1Y9iFjBglAvQjh4L5vru/view?usp=sharing).\n",
    "\n",
    "\n",
    "---\n",
    "\n",
    "\n"
   ]
  },
  {
   "cell_type": "code",
   "execution_count": null,
   "metadata": {
    "id": "OCw9Pvla96_e"
   },
   "outputs": [],
   "source": [
    "# Installation de la bibliothèque\n",
    "!pip install pandas"
   ]
  },
  {
   "cell_type": "code",
   "execution_count": null,
   "metadata": {
    "id": "t4p1GR7owrwj"
   },
   "outputs": [],
   "source": [
    "# Import de la bibliothèque\n"
   ]
  },
  {
   "cell_type": "code",
   "execution_count": null,
   "metadata": {
    "id": "ZxpjmepOwrk4"
   },
   "outputs": [],
   "source": [
    "# Vérification de la verion de la bibliothèque\n"
   ]
  },
  {
   "cell_type": "code",
   "execution_count": null,
   "metadata": {
    "id": "2r5qW8tqyrro"
   },
   "outputs": [],
   "source": [
    "# Création d'un jeu de données\n",
    "utilisateurs = {\n",
    "    0: {\n",
    "        'nom': 'Doe',\n",
    "        'prenom': 'John',\n",
    "        'age': 30\n",
    "    },\n",
    "    1: {\n",
    "        'nom': 'Smith',\n",
    "        'prenom': 'Jane',\n",
    "        'age': 25\n",
    "    },\n",
    "    2: {\n",
    "        'nom': 'Johnson',\n",
    "        'prenom': 'Bob',\n",
    "        'age': 35\n",
    "    },\n",
    "    3: {\n",
    "        'nom': 'Williams',\n",
    "        'prenom': 'Alice',\n",
    "        'age': 28\n",
    "    },\n",
    "    4: {\n",
    "        'nom': 'Brown',\n",
    "        'prenom': 'Chris',\n",
    "        'age': 40\n",
    "    }\n",
    "}"
   ]
  },
  {
   "cell_type": "code",
   "execution_count": 2,
   "metadata": {
    "id": "lNCaB0niytEV"
   },
   "outputs": [
    {
     "name": "stdout",
     "output_type": "stream",
     "text": [
      "1. Introduction au langage Python.ipynb\n",
      "2. Programmation Orientée Objet.ipynb\n",
      "3. Gestion d'une base de données (POO).ipynb\n",
      "\u001b[34m4. Application web Streamlit\u001b[m\u001b[m\n",
      "\u001b[34m5. Application Programming Interface\u001b[m\u001b[m\n",
      "app.py\n"
     ]
    }
   ],
   "source": [
    "!ls"
   ]
  },
  {
   "cell_type": "code",
   "execution_count": 1,
   "metadata": {
    "id": "TanMJq1xytB_"
   },
   "outputs": [
    {
     "name": "stdout",
     "output_type": "stream",
     "text": [
      "Traceback (most recent call last):\r\n",
      "  File \"/Library/Frameworks/Python.framework/Versions/3.10/lib/python3.10/site-packages/numpy/core/__init__.py\", line 23, in <module>\r\n",
      "    from . import multiarray\r\n",
      "  File \"/Library/Frameworks/Python.framework/Versions/3.10/lib/python3.10/site-packages/numpy/core/multiarray.py\", line 10, in <module>\r\n",
      "    from . import overrides\r\n",
      "  File \"/Library/Frameworks/Python.framework/Versions/3.10/lib/python3.10/site-packages/numpy/core/overrides.py\", line 6, in <module>\r\n",
      "    from numpy.core._multiarray_umath import (\r\n",
      "ImportError: dlopen(/Library/Frameworks/Python.framework/Versions/3.10/lib/python3.10/site-packages/numpy/core/_multiarray_umath.cpython-310-darwin.so, 0x0002): tried: '/Library/Frameworks/Python.framework/Versions/3.10/lib/python3.10/site-packages/numpy/core/_multiarray_umath.cpython-310-darwin.so' (mach-o file, but is an incompatible architecture (have 'arm64', need 'x86_64')), '/System/Volumes/Preboot/Cryptexes/OS/Library/Frameworks/Python.framework/Versions/3.10/lib/python3.10/site-packages/numpy/core/_multiarray_umath.cpython-310-darwin.so' (no such file), '/Library/Frameworks/Python.framework/Versions/3.10/lib/python3.10/site-packages/numpy/core/_multiarray_umath.cpython-310-darwin.so' (mach-o file, but is an incompatible architecture (have 'arm64', need 'x86_64'))\r\n",
      "\r\n",
      "During handling of the above exception, another exception occurred:\r\n",
      "\r\n",
      "Traceback (most recent call last):\r\n",
      "  File \"/Library/Frameworks/Python.framework/Versions/3.10/bin/streamlit\", line 5, in <module>\r\n",
      "    from streamlit.web.cli import main\r\n",
      "  File \"/Library/Frameworks/Python.framework/Versions/3.10/lib/python3.10/site-packages/streamlit/__init__.py\", line 55, in <module>\r\n",
      "    from streamlit.delta_generator import DeltaGenerator as _DeltaGenerator\r\n",
      "  File \"/Library/Frameworks/Python.framework/Versions/3.10/lib/python3.10/site-packages/streamlit/delta_generator.py\", line 36, in <module>\r\n",
      "    from streamlit import config, cursor, env_util, logger, runtime, type_util, util\r\n",
      "  File \"/Library/Frameworks/Python.framework/Versions/3.10/lib/python3.10/site-packages/streamlit/cursor.py\", line 18, in <module>\r\n",
      "    from streamlit.runtime.scriptrunner import get_script_run_ctx\r\n",
      "  File \"/Library/Frameworks/Python.framework/Versions/3.10/lib/python3.10/site-packages/streamlit/runtime/__init__.py\", line 16, in <module>\r\n",
      "    from streamlit.runtime.runtime import Runtime as Runtime\r\n",
      "  File \"/Library/Frameworks/Python.framework/Versions/3.10/lib/python3.10/site-packages/streamlit/runtime/runtime.py\", line 31, in <module>\r\n",
      "    from streamlit.runtime.app_session import AppSession\r\n",
      "  File \"/Library/Frameworks/Python.framework/Versions/3.10/lib/python3.10/site-packages/streamlit/runtime/app_session.py\", line 35, in <module>\r\n",
      "    from streamlit.runtime import caching, legacy_caching\r\n",
      "  File \"/Library/Frameworks/Python.framework/Versions/3.10/lib/python3.10/site-packages/streamlit/runtime/caching/__init__.py\", line 21, in <module>\r\n",
      "    from streamlit.runtime.caching.cache_data_api import (\r\n",
      "  File \"/Library/Frameworks/Python.framework/Versions/3.10/lib/python3.10/site-packages/streamlit/runtime/caching/cache_data_api.py\", line 32, in <module>\r\n",
      "    from streamlit.runtime.caching.cache_errors import CacheError, CacheKeyNotFoundError\r\n",
      "  File \"/Library/Frameworks/Python.framework/Versions/3.10/lib/python3.10/site-packages/streamlit/runtime/caching/cache_errors.py\", line 18, in <module>\r\n",
      "    from streamlit import type_util\r\n",
      "  File \"/Library/Frameworks/Python.framework/Versions/3.10/lib/python3.10/site-packages/streamlit/type_util.py\", line 40, in <module>\r\n",
      "    import numpy as np\r\n",
      "  File \"/Library/Frameworks/Python.framework/Versions/3.10/lib/python3.10/site-packages/numpy/__init__.py\", line 141, in <module>\r\n",
      "    from . import core\r\n",
      "  File \"/Library/Frameworks/Python.framework/Versions/3.10/lib/python3.10/site-packages/numpy/core/__init__.py\", line 49, in <module>\r\n",
      "    raise ImportError(msg)\r\n",
      "ImportError: \r\n",
      "\r\n",
      "IMPORTANT: PLEASE READ THIS FOR ADVICE ON HOW TO SOLVE THIS ISSUE!\r\n",
      "\r\n",
      "Importing the numpy C-extensions failed. This error can happen for\r\n",
      "many reasons, often due to issues with your setup or how NumPy was\r\n",
      "installed.\r\n",
      "\r\n",
      "We have compiled some common reasons and troubleshooting tips at:\r\n",
      "\r\n",
      "    https://numpy.org/devdocs/user/troubleshooting-importerror.html\r\n",
      "\r\n",
      "Please note and check the following:\r\n",
      "\r\n",
      "  * The Python version is: Python3.10 from \"/Library/Frameworks/Python.framework/Versions/3.10/bin/python3.10\"\r\n",
      "  * The NumPy version is: \"1.24.3\"\r\n",
      "\r\n",
      "and make sure that they are the versions you expect.\r\n",
      "Please carefully study the documentation linked above for further help.\r\n",
      "\r\n",
      "Original error was: dlopen(/Library/Frameworks/Python.framework/Versions/3.10/lib/python3.10/site-packages/numpy/core/_multiarray_umath.cpython-310-darwin.so, 0x0002): tried: '/Library/Frameworks/Python.framework/Versions/3.10/lib/python3.10/site-packages/numpy/core/_multiarray_umath.cpython-310-darwin.so' (mach-o file, but is an incompatible architecture (have 'arm64', need 'x86_64')), '/System/Volumes/Preboot/Cryptexes/OS/Library/Frameworks/Python.framework/Versions/3.10/lib/python3.10/site-packages/numpy/core/_multiarray_umath.cpython-310-darwin.so' (no such file), '/Library/Frameworks/Python.framework/Versions/3.10/lib/python3.10/site-packages/numpy/core/_multiarray_umath.cpython-310-darwin.so' (mach-o file, but is an incompatible architecture (have 'arm64', need 'x86_64'))\r\n",
      "\r\n"
     ]
    }
   ],
   "source": [
    "!streamlit run app.py"
   ]
  },
  {
   "cell_type": "code",
   "execution_count": null,
   "metadata": {
    "id": "MAG1VBWrys_a"
   },
   "outputs": [],
   "source": []
  },
  {
   "cell_type": "code",
   "execution_count": null,
   "metadata": {
    "id": "ea0eOBJO4Db6"
   },
   "outputs": [],
   "source": []
  },
  {
   "cell_type": "code",
   "execution_count": null,
   "metadata": {
    "id": "DtMZ85qI4DZg"
   },
   "outputs": [],
   "source": []
  },
  {
   "cell_type": "markdown",
   "metadata": {
    "id": "wQPqxmffwnXu"
   },
   "source": [
    "**1.2 Manipulation du jeu de données**\n",
    "\n",
    "Voici la liste des modules de la bibliothèque pandas qui seront utilisés dans cette partie.\n",
    "\n",
    "- `pd.read_csv('chemin_du_fichier')` : Pour importer un jeu de données à partir de son 'nom de fichier',\n",
    "- `df.head(n)` : Pour afficher les n premières lignes du le jeu de données.\n",
    "\n",
    "- `df.shape()` : Pour afficher les dimensions du jeu de données (nombre de lignes et nombre de colonnes),\n",
    "- `df.isna().sum()` : Pour afficher le nombre de valeurs manquantes par colonnes.\n",
    "\n",
    "- `df.info()` : Pour afficher les informations du jeu de données,\n",
    "- `df.describe()` : Pour afficher les données statistiques du jeu de données.\n",
    "\n",
    "Voici la liste des méthodes de pandas qui seront utilisées dans cette partie :\n",
    "- `.dropna()` : Pour supprimer les lignes contenant des valeurs manquantes dans le jeu de données df. Pour concerver les modifications il faudra réassigner la variable `df`:\n",
    "      df = df.dropna()\n",
    "\n",
    "- `.drop(['nom_de_la_colonne'], axis=1)` : Pour supprimer une colonne du jeu de données df. Pour concerver les modifications il faudra réassigner la variable df.\n",
    "\n",
    "- `df['nom_de_la_colonne'].value_counts()` : Pour afficher la répartition des valeurs de la colonne mentionnée entre crochet.\n",
    "\n",
    "- `df['nom_de_la_colonne'].apply(lambda x: fonction(x))` : Pour appliquer une fonction sur chacune des valeurs d'une colonne.\n",
    "\n",
    "- `df.to_csv('fichier.csv')` : Pour sauvegarder le jeu de données.\n",
    "\n",
    "- `df.groupby('nom_de_la_colonne').max()` : Pour agréger les données à partir d'une colonne.\n",
    "\n",
    "- `categorical(df, 'nom_de_la_colonne')` : Fonction permettant de remplacer les valeurs qualitatives par des valeurs quantitatives. Pour conserver les modifications il faudra réassigner la variable df ==> df = catégorical(df, 'nom de la colone').\n",
    "\n",
    "- Fonction permettant de transformer une colonne qualitative en colonne quantitative :\n",
    "\n",
    "      def catégorical(df, column):\n",
    "        liste_ = list(df[column].value_counts().index)\n",
    "        df[column] = df[column].apply(lambda x: liste_.index(x))\n",
    "        return df\n",
    "\n",
    "- `df[(df['nom_de_la_colonne1'] == value1) & (df['nom_de_la_colonne2'] == value2)]` : Pour appliquer un filtre sur la colonne1 ainsi que sur la colonne2, les oppérateurs logiques utilisés par pandas sont : `|` pour `ou/or` et `&` pour `and/et`."
   ]
  },
  {
   "cell_type": "code",
   "execution_count": null,
   "metadata": {
    "id": "UWlA-q56wpFw"
   },
   "outputs": [],
   "source": [
    "# Import du jeu de données\n"
   ]
  },
  {
   "cell_type": "code",
   "execution_count": null,
   "metadata": {
    "id": "0VjsT_yYwoW4"
   },
   "outputs": [],
   "source": []
  },
  {
   "cell_type": "code",
   "execution_count": null,
   "metadata": {
    "id": "a1L2tSB7w-tM"
   },
   "outputs": [],
   "source": []
  },
  {
   "cell_type": "code",
   "execution_count": null,
   "metadata": {
    "id": "0uohoroqw-p6"
   },
   "outputs": [],
   "source": []
  },
  {
   "cell_type": "code",
   "execution_count": null,
   "metadata": {
    "id": "L0ZhTz35xACN"
   },
   "outputs": [],
   "source": []
  },
  {
   "cell_type": "code",
   "execution_count": null,
   "metadata": {
    "id": "5qW2yZ_bw__H"
   },
   "outputs": [],
   "source": []
  },
  {
   "cell_type": "code",
   "execution_count": null,
   "metadata": {
    "id": "xnhPukNew-nF"
   },
   "outputs": [],
   "source": []
  },
  {
   "cell_type": "code",
   "execution_count": null,
   "metadata": {
    "id": "S2FcleVIyuxs"
   },
   "outputs": [],
   "source": []
  },
  {
   "cell_type": "code",
   "execution_count": null,
   "metadata": {
    "id": "bIlpEi6Pyuu1"
   },
   "outputs": [],
   "source": []
  },
  {
   "cell_type": "code",
   "execution_count": null,
   "metadata": {
    "id": "piXxmrIqyusP"
   },
   "outputs": [],
   "source": []
  },
  {
   "cell_type": "markdown",
   "metadata": {
    "id": "OpVibzsY-bmn"
   },
   "source": [
    "**Liste compréhension**\n",
    "\n",
    "Une liste compréhension est une méthode concise et lisible en Python pour créer des listes à partir d'autres listes. Une liste compréhension est écrite en utilisant une expression simplifiée qui décrit comment les éléments doivent être transformés. Cela permet de générer des listes plus rapidement et avec moins de code qu'en utilisant des boucles classiques."
   ]
  },
  {
   "cell_type": "code",
   "execution_count": null,
   "metadata": {
    "id": "08E2zdQXxA4v"
   },
   "outputs": [],
   "source": []
  },
  {
   "cell_type": "code",
   "execution_count": null,
   "metadata": {
    "id": "pIT1fL5ExA2S"
   },
   "outputs": [],
   "source": []
  },
  {
   "cell_type": "code",
   "execution_count": null,
   "metadata": {
    "id": "dsGtQAbxxAzM"
   },
   "outputs": [],
   "source": []
  },
  {
   "cell_type": "code",
   "execution_count": null,
   "metadata": {
    "id": "8Xv6OWg5-FpN"
   },
   "outputs": [],
   "source": []
  },
  {
   "cell_type": "markdown",
   "metadata": {
    "id": "e5mY0U0J-GOM"
   },
   "source": [
    "# 2. Gestion d'une base de données avec la bibliothèque [SQLalchemy](https://docs.sqlalchemy.org/en/14/).\n",
    "\n",
    "<img src='https://miro.medium.com/v2/resize:fit:1400/0*msfsws06ImMSJYop.jpg'>\n",
    "\n",
    "SQLAlchemy est une bibliothèque Python très populaire qui facilite l'interaction avec des bases de données relationnelles en utilisant un langage Python. Elle fournit un ensemble d'outils puissants pour travailler avec des bases de données SQL tout en offrant une abstraction flexible qui permet de travailler avec différents types de bases de données.\n",
    "\n",
    "Voici quelques caractéristiques clés de SQLAlchemy :\n",
    "\n",
    "**ORM (Object-Relational Mapping)** : SQLAlchemy propose un ORM qui permet de représenter des tables de base de données sous forme d'objets Python. Ces objets peuvent être manipulés comme n'importe quel autre objet Python, offrant ainsi une abstraction plus élevée des opérations sur la base de données.\n",
    "\n",
    "**Prise en Charge de Diverses Bases de Données** : SQLAlchemy prend en charge plusieurs types de bases de données, y compris MySQL, PostgreSQL, SQLite, Oracle, et d'autres.\n",
    "\n",
    "**Flexibilité** : Vous pouvez utiliser SQLAlchemy de manière transparente avec un ORM complet, un langage SQL pur, ou une combinaison des deux, en fonction des besoins de votre application.\n",
    "\n",
    "**Communauté Active** : SQLAlchemy est largement utilisé dans la communauté Python et dispose d'une documentation complète et d'une base d'utilisateurs active.\n",
    "\n",
    "---\n",
    "\n",
    "\n",
    "Installation de la bibliothèque : `pip install SQLAlchemy`"
   ]
  },
  {
   "cell_type": "code",
   "execution_count": null,
   "metadata": {
    "id": "HNX8_0GL-LMI"
   },
   "outputs": [],
   "source": [
    "# Installation de la bibliothèque SQLAlchemy\n",
    "!pip install SQLAlchemy"
   ]
  },
  {
   "cell_type": "code",
   "execution_count": null,
   "metadata": {
    "id": "wBPjULrL-F-B"
   },
   "outputs": [],
   "source": [
    "import sqlalchemy as db\n",
    "\n",
    "class DataBase():\n",
    "    \"\"\"\n",
    "    Retour un objet de type sqlalchemy gérant la connexion à une base de données sqlite.\n",
    "    name_database : str --> Nom de la base de donnée\n",
    "    \"\"\"\n",
    "\n",
    "    def __init__(self, name_database:str='database'):\n",
    "        self.name = name_database\n",
    "        self.url = f\"sqlite:///{name_database}.db\"\n",
    "        self.engine = db.create_engine(self.url)\n",
    "        self.connection = self.engine.connect()\n",
    "        self.metadata = db.MetaData()\n",
    "        self.table = self.engine.table_names()\n",
    "\n",
    "\n",
    "    def create_table(self, name_table:str, **kwargs):\n",
    "        print(kwargs)\n",
    "        \"\"\"\n",
    "        Crée une Table dans la base de données.\n",
    "        name_table : str   --> Nom de la base de données\n",
    "        **kwargs :  nom_de_colonne=db.String, nom_de_colonne=db.Integer\n",
    "        \"\"\"\n",
    "\n",
    "        try:\n",
    "            colums = [db.Column(k, v, primary_key = True)\n",
    "            if 'id_' in k else db.Column(k, v)\n",
    "            for k,v in kwargs.items()]\n",
    "\n",
    "            db.Table(name_table, self.metadata, *colums)\n",
    "            self.metadata.create_all(self.engine)\n",
    "            print(f\"Table : '{name_table}' are created succesfully\")\n",
    "\n",
    "        except:\n",
    "            print(f\"La Table{name_table} existe déjà !\")\n",
    "\n",
    "\n",
    "    def read_table(self, name_table:str, return_keys=False):\n",
    "        \"\"\"\n",
    "        Lecture de la base de données, retourne les colonnes et lignes de la base de données.\n",
    "        name_table : str   --> Nom de la base de données\n",
    "        \"\"\"\n",
    "\n",
    "        table = db.Table(name_table,\n",
    "                         self.metadata,\n",
    "                         autoload=True,\n",
    "                         autoload_with=self.engine)\n",
    "\n",
    "        if return_keys:table.columns.keys()\n",
    "        else : return table\n",
    "\n",
    "\n",
    "    def add_row(self, name_table:str, **kwarrgs):\n",
    "        \"\"\"\n",
    "        Ajout d'une ligne dans la base de données\n",
    "        name_table : str   --> Nom de la base de données\n",
    "        **kwarrgs:  nom_de_colonne1 = valeur_à_ajoutée, nom_de_colonne2 = valeur_à_ajoutée\n",
    "        \"\"\"\n",
    "\n",
    "        name_table = self.read_table(name_table)\n",
    "        stmt = (db.insert(name_table).values(kwarrgs))\n",
    "        self.connection.execute(stmt)\n",
    "\n",
    "        print(f'Row added')\n",
    "\n",
    "\n",
    "    def delete_row_by_id(self, name_table:str, id_:int):\n",
    "        \"\"\"\n",
    "        Supprime du contenu de la base de données\n",
    "        name_database : str --> Nom de la base de donnée\n",
    "        id_ : int. --> numéro id de la ligne à supprimer\n",
    "        \"\"\"\n",
    "\n",
    "        table = self.read_table(name_table)\n",
    "        id = table.c.keys()[0]\n",
    "\n",
    "        stmt = (db.delete(table).where(table.c[id] == id_))\n",
    "        self.connection.execute(stmt)\n",
    "        print(f'Row id {id_} deleted')\n",
    "\n",
    "\n",
    "    def select_table(self, name_table:str):\n",
    "        \"\"\"\n",
    "        Retourne l'ensemble du contenu de la base de données\n",
    "        name_database : str --> Nom de la table de la base de donnée\n",
    "        \"\"\"\n",
    "        name_table = self.read_table(name_table)\n",
    "        stm = db.select([name_table])\n",
    "\n",
    "        return self.connection.execute(stm).fetchall()"
   ]
  },
  {
   "cell_type": "code",
   "execution_count": null,
   "metadata": {
    "id": "B0y_prAhxLZk"
   },
   "outputs": [],
   "source": []
  },
  {
   "cell_type": "code",
   "execution_count": null,
   "metadata": {
    "id": "95yR7-4A5qeL"
   },
   "outputs": [],
   "source": [
    "# Création d'une base de données\n",
    "database = DataBase('data')"
   ]
  },
  {
   "cell_type": "code",
   "execution_count": null,
   "metadata": {
    "id": "snsqeSMe5qbS"
   },
   "outputs": [],
   "source": [
    "# Création d'un Tableau1\n",
    "database.create_table('Tableau1', id_user=db.Integer, colonne1=db.String, colonne2=db.Integer)"
   ]
  },
  {
   "cell_type": "code",
   "execution_count": null,
   "metadata": {
    "id": "Sub8JNyQ5qYm"
   },
   "outputs": [],
   "source": [
    "# Création d'un Tableau2\n",
    "database.create_table('Tableau2', id_shop=db.Integer, id_colonne1=db.String, colonne2=db.Integer)"
   ]
  },
  {
   "cell_type": "code",
   "execution_count": null,
   "metadata": {
    "id": "Ui5dR7jy51J3"
   },
   "outputs": [],
   "source": [
    "# Ajouter une ligne à la base de données\n",
    "database.add_row('Tableau2', id_shop=3086, id_colonne1='Iphone')"
   ]
  },
  {
   "cell_type": "code",
   "execution_count": null,
   "metadata": {
    "id": "HIHNpJ_e6GC4"
   },
   "outputs": [],
   "source": [
    "# Ajouter plusieurs lignes à la base de données\n",
    "for i in range(10):\n",
    "    database.add_row('Tableau2',id_shop=i, id_colonne1='Iphone'*(i+1), colonne2=99*i)\n",
    "\n",
    "database.select_table('Tableau2')"
   ]
  },
  {
   "cell_type": "code",
   "execution_count": null,
   "metadata": {
    "id": "3U_Bo8kk51HY"
   },
   "outputs": [],
   "source": [
    "# Afficher le Tableau1\n",
    "database.select_table('Tableau2')"
   ]
  },
  {
   "cell_type": "code",
   "execution_count": null,
   "metadata": {
    "id": "OnRaDh--51EZ"
   },
   "outputs": [],
   "source": []
  },
  {
   "cell_type": "code",
   "execution_count": null,
   "metadata": {
    "id": "WUACCWXC51Bk"
   },
   "outputs": [],
   "source": []
  },
  {
   "cell_type": "markdown",
   "metadata": {
    "id": "Fu2-RT0HR1aM"
   },
   "source": [
    "---\n",
    "\n",
    "# **Exercice**\n",
    "\n",
    "Utilisez la classe `DataBase` pour créer une base de données, créez ensuite une table pouvant contenir les données du jeu de données utilisé dans la partie 1 puis ajoutez l'ensemble des données présentes dans le fichier [suivant](https://drive.google.com/file/d/13EpnupLYyUBs1Y9iFjBglAvQjh4L5vru/view?usp=sharing) dans votre base de données."
   ]
  },
  {
   "cell_type": "code",
   "execution_count": null,
   "metadata": {
    "id": "_4qNwTv1Sgm0"
   },
   "outputs": [],
   "source": []
  },
  {
   "cell_type": "code",
   "execution_count": null,
   "metadata": {
    "id": "JBDtFIjcStJ7"
   },
   "outputs": [],
   "source": []
  },
  {
   "cell_type": "code",
   "execution_count": null,
   "metadata": {
    "id": "Gdayo9KOStHm"
   },
   "outputs": [],
   "source": []
  },
  {
   "cell_type": "code",
   "execution_count": null,
   "metadata": {
    "id": "eqE5ggouStE_"
   },
   "outputs": [],
   "source": []
  },
  {
   "cell_type": "code",
   "execution_count": null,
   "metadata": {
    "id": "tLQrqFCNStCk"
   },
   "outputs": [],
   "source": []
  },
  {
   "cell_type": "code",
   "execution_count": null,
   "metadata": {
    "id": "7G84wSXqSs8U"
   },
   "outputs": [],
   "source": []
  },
  {
   "cell_type": "code",
   "execution_count": null,
   "metadata": {
    "id": "VWFACHlxSson"
   },
   "outputs": [],
   "source": []
  }
 ],
 "metadata": {
  "colab": {
   "authorship_tag": "ABX9TyNBtZH4j+mEUIqTThYLB5kX",
   "provenance": []
  },
  "kernelspec": {
   "display_name": "Python 3 (ipykernel)",
   "language": "python",
   "name": "python3"
  },
  "language_info": {
   "codemirror_mode": {
    "name": "ipython",
    "version": 3
   },
   "file_extension": ".py",
   "mimetype": "text/x-python",
   "name": "python",
   "nbconvert_exporter": "python",
   "pygments_lexer": "ipython3",
   "version": "3.9.12"
  },
  "nbTranslate": {
   "displayLangs": [
    "*"
   ],
   "hotkey": "alt-t",
   "langInMainMenu": true,
   "sourceLang": "en",
   "targetLang": "fr",
   "useGoogleTranslate": true
  }
 },
 "nbformat": 4,
 "nbformat_minor": 1
}
