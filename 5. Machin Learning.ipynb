{
 "cells": [
  {
   "cell_type": "markdown",
   "metadata": {},
   "source": [
    "# **Partie 2 : Machine Learning**\n",
    "\n",
    "Le machine learning, ou apprentissage automatique en français, est une branche de l'intelligence artificielle (IA) qui se concentre sur le développement de techniques permettant aux ordinateurs d'apprendre à partir de données. \n",
    "\n",
    "Plutôt que de programmer explicitement des règles ou des instructions, le machine learning permet aux systèmes informatiques de s'améliorer automatiquement à partir de l'expérience.\n",
    "\n",
    "Le machine learning est divisé plusieurs sous-discipline dont les trois catégories principales sont les suivantes :\n",
    "- **Apprentissage supervisé** : les données sont étiquetées avec la réponse correcte. Par exemple, un modèle d'apprentissage supervisé peut apprendre à identifier les chiens dans les images en étant entraîné sur un ensemble de données d'images étiquetées comme contenant des chiens ou non.\n",
    "\n",
    "- **Apprentissage non supervisé** : les données ne sont pas étiquetées avec la réponse correcte. Le modèle doit apprendre à trouver des structures et des modèles dans les données. Par exemple, un modèle d'apprentissage non supervisé peut apprendre à identifier les chiens dans les images en recherchant des structures et des modèles dans les images qui sont similaires à des images étiquetées comme contenant des chiens.\n",
    "\n",
    "- **Apprentissage par renforcement** : le modèle apprend à prendre des décisions en interagissant avec son environnement. Le modèle reçoit des récompenses pour les actions correctes et des pénalités pour les actions incorrectes. Le modèle doit ensuite apprendre à maximiser les récompenses et à minimiser les pénalités. Par exemple, un modèle d'apprentissage par renforcement peut apprendre à jouer à un jeu vidéo en essayant différentes actions et en observant les récompenses et les pénalités reçues pour chaque action.\n",
    "\n",
    "<img src='https://www.researchgate.net/publication/354960266/figure/fig1/AS:1075175843983363@1633353305883/The-main-types-of-machine-learning-Main-approaches-include-classification-and.png' width=5000>\n",
    "\n",
    "\n",
    "Dans ce notebook, nous allons nous concentrer sur l'apprentissage supervisé. Nous allons apprendre à construire des modèles d'apprentissage supervisé pour résoudre des problèmes de classification.\n",
    "\n",
    "Nous utiliserons le jeu de données nettoyé dans la partie 1, pour rappel, il s'agit d'un ensemble de données synthétiques qui contient des informations sur les clients d'une entreprise. L'objectif est de prédire le statut marital de chaque client en fonction de ses caractéristiques.\n",
    "\n",
    "Ce notebook est divisé en 3 parties :\n",
    "1. Préparation des données\n",
    "2. Entraînement & Evaluation des modèles de Machine Learning\n",
    "3. Conception de modèles Deep Learning\n",
    "\n",
    "Nous utiliserons les librairies suivantes :\n",
    "- **[Pandas](https://pandas.pydata.org/)** : pour la manipulation des données\n",
    "- **[Scikit-learn](https://scikit-learn.org/stable)** : pour la modélisation des modèles de machine learning\n",
    "- **[Tensorflow](https://www.tensorflow.org/)** : pour la modélisation des modèles de deep learning"
   ]
  },
  {
   "cell_type": "code",
   "execution_count": 1,
   "metadata": {},
   "outputs": [
    {
     "data": {
      "text/html": [
       "<div>\n",
       "<style scoped>\n",
       "    .dataframe tbody tr th:only-of-type {\n",
       "        vertical-align: middle;\n",
       "    }\n",
       "\n",
       "    .dataframe tbody tr th {\n",
       "        vertical-align: top;\n",
       "    }\n",
       "\n",
       "    .dataframe thead th {\n",
       "        text-align: right;\n",
       "    }\n",
       "</style>\n",
       "<table border=\"1\" class=\"dataframe\">\n",
       "  <thead>\n",
       "    <tr style=\"text-align: right;\">\n",
       "      <th></th>\n",
       "      <th>Gender</th>\n",
       "      <th>Ever_Married</th>\n",
       "      <th>Age</th>\n",
       "      <th>Graduated</th>\n",
       "      <th>Work_Experience</th>\n",
       "      <th>Family_Size</th>\n",
       "      <th>Segmentation</th>\n",
       "      <th>Profession_Artist</th>\n",
       "      <th>Profession_Doctor</th>\n",
       "      <th>Profession_Engineer</th>\n",
       "      <th>...</th>\n",
       "      <th>Spending_Score_Average</th>\n",
       "      <th>Spending_Score_High</th>\n",
       "      <th>Spending_Score_Low</th>\n",
       "      <th>Var_1_Cat_1</th>\n",
       "      <th>Var_1_Cat_2</th>\n",
       "      <th>Var_1_Cat_3</th>\n",
       "      <th>Var_1_Cat_4</th>\n",
       "      <th>Var_1_Cat_5</th>\n",
       "      <th>Var_1_Cat_6</th>\n",
       "      <th>Var_1_Cat_7</th>\n",
       "    </tr>\n",
       "  </thead>\n",
       "  <tbody>\n",
       "    <tr>\n",
       "      <th>0</th>\n",
       "      <td>0</td>\n",
       "      <td>1</td>\n",
       "      <td>22</td>\n",
       "      <td>1</td>\n",
       "      <td>1.0</td>\n",
       "      <td>4.0</td>\n",
       "      <td>0</td>\n",
       "      <td>0</td>\n",
       "      <td>0</td>\n",
       "      <td>0</td>\n",
       "      <td>...</td>\n",
       "      <td>0</td>\n",
       "      <td>0</td>\n",
       "      <td>1</td>\n",
       "      <td>0</td>\n",
       "      <td>0</td>\n",
       "      <td>0</td>\n",
       "      <td>1</td>\n",
       "      <td>0</td>\n",
       "      <td>0</td>\n",
       "      <td>0</td>\n",
       "    </tr>\n",
       "    <tr>\n",
       "      <th>1</th>\n",
       "      <td>1</td>\n",
       "      <td>0</td>\n",
       "      <td>67</td>\n",
       "      <td>0</td>\n",
       "      <td>1.0</td>\n",
       "      <td>1.0</td>\n",
       "      <td>3</td>\n",
       "      <td>0</td>\n",
       "      <td>0</td>\n",
       "      <td>1</td>\n",
       "      <td>...</td>\n",
       "      <td>0</td>\n",
       "      <td>0</td>\n",
       "      <td>1</td>\n",
       "      <td>0</td>\n",
       "      <td>0</td>\n",
       "      <td>0</td>\n",
       "      <td>0</td>\n",
       "      <td>0</td>\n",
       "      <td>1</td>\n",
       "      <td>0</td>\n",
       "    </tr>\n",
       "    <tr>\n",
       "      <th>2</th>\n",
       "      <td>0</td>\n",
       "      <td>0</td>\n",
       "      <td>67</td>\n",
       "      <td>0</td>\n",
       "      <td>0.0</td>\n",
       "      <td>2.0</td>\n",
       "      <td>3</td>\n",
       "      <td>0</td>\n",
       "      <td>0</td>\n",
       "      <td>0</td>\n",
       "      <td>...</td>\n",
       "      <td>0</td>\n",
       "      <td>1</td>\n",
       "      <td>0</td>\n",
       "      <td>0</td>\n",
       "      <td>0</td>\n",
       "      <td>0</td>\n",
       "      <td>0</td>\n",
       "      <td>0</td>\n",
       "      <td>1</td>\n",
       "      <td>0</td>\n",
       "    </tr>\n",
       "    <tr>\n",
       "      <th>3</th>\n",
       "      <td>0</td>\n",
       "      <td>0</td>\n",
       "      <td>56</td>\n",
       "      <td>1</td>\n",
       "      <td>0.0</td>\n",
       "      <td>2.0</td>\n",
       "      <td>1</td>\n",
       "      <td>1</td>\n",
       "      <td>0</td>\n",
       "      <td>0</td>\n",
       "      <td>...</td>\n",
       "      <td>1</td>\n",
       "      <td>0</td>\n",
       "      <td>0</td>\n",
       "      <td>0</td>\n",
       "      <td>0</td>\n",
       "      <td>0</td>\n",
       "      <td>0</td>\n",
       "      <td>0</td>\n",
       "      <td>1</td>\n",
       "      <td>0</td>\n",
       "    </tr>\n",
       "    <tr>\n",
       "      <th>4</th>\n",
       "      <td>0</td>\n",
       "      <td>1</td>\n",
       "      <td>32</td>\n",
       "      <td>0</td>\n",
       "      <td>1.0</td>\n",
       "      <td>3.0</td>\n",
       "      <td>1</td>\n",
       "      <td>0</td>\n",
       "      <td>0</td>\n",
       "      <td>0</td>\n",
       "      <td>...</td>\n",
       "      <td>0</td>\n",
       "      <td>0</td>\n",
       "      <td>1</td>\n",
       "      <td>0</td>\n",
       "      <td>0</td>\n",
       "      <td>0</td>\n",
       "      <td>0</td>\n",
       "      <td>0</td>\n",
       "      <td>1</td>\n",
       "      <td>0</td>\n",
       "    </tr>\n",
       "    <tr>\n",
       "      <th>...</th>\n",
       "      <td>...</td>\n",
       "      <td>...</td>\n",
       "      <td>...</td>\n",
       "      <td>...</td>\n",
       "      <td>...</td>\n",
       "      <td>...</td>\n",
       "      <td>...</td>\n",
       "      <td>...</td>\n",
       "      <td>...</td>\n",
       "      <td>...</td>\n",
       "      <td>...</td>\n",
       "      <td>...</td>\n",
       "      <td>...</td>\n",
       "      <td>...</td>\n",
       "      <td>...</td>\n",
       "      <td>...</td>\n",
       "      <td>...</td>\n",
       "      <td>...</td>\n",
       "      <td>...</td>\n",
       "      <td>...</td>\n",
       "      <td>...</td>\n",
       "    </tr>\n",
       "    <tr>\n",
       "      <th>6660</th>\n",
       "      <td>0</td>\n",
       "      <td>0</td>\n",
       "      <td>41</td>\n",
       "      <td>0</td>\n",
       "      <td>0.0</td>\n",
       "      <td>5.0</td>\n",
       "      <td>3</td>\n",
       "      <td>1</td>\n",
       "      <td>0</td>\n",
       "      <td>0</td>\n",
       "      <td>...</td>\n",
       "      <td>0</td>\n",
       "      <td>1</td>\n",
       "      <td>0</td>\n",
       "      <td>0</td>\n",
       "      <td>0</td>\n",
       "      <td>0</td>\n",
       "      <td>0</td>\n",
       "      <td>0</td>\n",
       "      <td>1</td>\n",
       "      <td>0</td>\n",
       "    </tr>\n",
       "    <tr>\n",
       "      <th>6661</th>\n",
       "      <td>0</td>\n",
       "      <td>1</td>\n",
       "      <td>35</td>\n",
       "      <td>1</td>\n",
       "      <td>3.0</td>\n",
       "      <td>4.0</td>\n",
       "      <td>0</td>\n",
       "      <td>0</td>\n",
       "      <td>0</td>\n",
       "      <td>0</td>\n",
       "      <td>...</td>\n",
       "      <td>0</td>\n",
       "      <td>0</td>\n",
       "      <td>1</td>\n",
       "      <td>0</td>\n",
       "      <td>0</td>\n",
       "      <td>0</td>\n",
       "      <td>1</td>\n",
       "      <td>0</td>\n",
       "      <td>0</td>\n",
       "      <td>0</td>\n",
       "    </tr>\n",
       "    <tr>\n",
       "      <th>6662</th>\n",
       "      <td>1</td>\n",
       "      <td>1</td>\n",
       "      <td>33</td>\n",
       "      <td>0</td>\n",
       "      <td>1.0</td>\n",
       "      <td>1.0</td>\n",
       "      <td>0</td>\n",
       "      <td>0</td>\n",
       "      <td>0</td>\n",
       "      <td>0</td>\n",
       "      <td>...</td>\n",
       "      <td>0</td>\n",
       "      <td>0</td>\n",
       "      <td>1</td>\n",
       "      <td>0</td>\n",
       "      <td>0</td>\n",
       "      <td>0</td>\n",
       "      <td>0</td>\n",
       "      <td>0</td>\n",
       "      <td>1</td>\n",
       "      <td>0</td>\n",
       "    </tr>\n",
       "    <tr>\n",
       "      <th>6663</th>\n",
       "      <td>1</td>\n",
       "      <td>1</td>\n",
       "      <td>27</td>\n",
       "      <td>0</td>\n",
       "      <td>1.0</td>\n",
       "      <td>4.0</td>\n",
       "      <td>3</td>\n",
       "      <td>0</td>\n",
       "      <td>0</td>\n",
       "      <td>0</td>\n",
       "      <td>...</td>\n",
       "      <td>0</td>\n",
       "      <td>0</td>\n",
       "      <td>1</td>\n",
       "      <td>0</td>\n",
       "      <td>0</td>\n",
       "      <td>0</td>\n",
       "      <td>0</td>\n",
       "      <td>0</td>\n",
       "      <td>1</td>\n",
       "      <td>0</td>\n",
       "    </tr>\n",
       "    <tr>\n",
       "      <th>6664</th>\n",
       "      <td>0</td>\n",
       "      <td>0</td>\n",
       "      <td>37</td>\n",
       "      <td>0</td>\n",
       "      <td>0.0</td>\n",
       "      <td>3.0</td>\n",
       "      <td>3</td>\n",
       "      <td>0</td>\n",
       "      <td>0</td>\n",
       "      <td>0</td>\n",
       "      <td>...</td>\n",
       "      <td>1</td>\n",
       "      <td>0</td>\n",
       "      <td>0</td>\n",
       "      <td>0</td>\n",
       "      <td>0</td>\n",
       "      <td>0</td>\n",
       "      <td>1</td>\n",
       "      <td>0</td>\n",
       "      <td>0</td>\n",
       "      <td>0</td>\n",
       "    </tr>\n",
       "  </tbody>\n",
       "</table>\n",
       "<p>6665 rows × 26 columns</p>\n",
       "</div>"
      ],
      "text/plain": [
       "      Gender  Ever_Married  Age  Graduated  Work_Experience  Family_Size  \\\n",
       "0          0             1   22          1              1.0          4.0   \n",
       "1          1             0   67          0              1.0          1.0   \n",
       "2          0             0   67          0              0.0          2.0   \n",
       "3          0             0   56          1              0.0          2.0   \n",
       "4          0             1   32          0              1.0          3.0   \n",
       "...      ...           ...  ...        ...              ...          ...   \n",
       "6660       0             0   41          0              0.0          5.0   \n",
       "6661       0             1   35          1              3.0          4.0   \n",
       "6662       1             1   33          0              1.0          1.0   \n",
       "6663       1             1   27          0              1.0          4.0   \n",
       "6664       0             0   37          0              0.0          3.0   \n",
       "\n",
       "      Segmentation  Profession_Artist  Profession_Doctor  Profession_Engineer  \\\n",
       "0                0                  0                  0                    0   \n",
       "1                3                  0                  0                    1   \n",
       "2                3                  0                  0                    0   \n",
       "3                1                  1                  0                    0   \n",
       "4                1                  0                  0                    0   \n",
       "...            ...                ...                ...                  ...   \n",
       "6660             3                  1                  0                    0   \n",
       "6661             0                  0                  0                    0   \n",
       "6662             0                  0                  0                    0   \n",
       "6663             3                  0                  0                    0   \n",
       "6664             3                  0                  0                    0   \n",
       "\n",
       "      ...  Spending_Score_Average  Spending_Score_High  Spending_Score_Low  \\\n",
       "0     ...                       0                    0                   1   \n",
       "1     ...                       0                    0                   1   \n",
       "2     ...                       0                    1                   0   \n",
       "3     ...                       1                    0                   0   \n",
       "4     ...                       0                    0                   1   \n",
       "...   ...                     ...                  ...                 ...   \n",
       "6660  ...                       0                    1                   0   \n",
       "6661  ...                       0                    0                   1   \n",
       "6662  ...                       0                    0                   1   \n",
       "6663  ...                       0                    0                   1   \n",
       "6664  ...                       1                    0                   0   \n",
       "\n",
       "      Var_1_Cat_1  Var_1_Cat_2  Var_1_Cat_3  Var_1_Cat_4  Var_1_Cat_5  \\\n",
       "0               0            0            0            1            0   \n",
       "1               0            0            0            0            0   \n",
       "2               0            0            0            0            0   \n",
       "3               0            0            0            0            0   \n",
       "4               0            0            0            0            0   \n",
       "...           ...          ...          ...          ...          ...   \n",
       "6660            0            0            0            0            0   \n",
       "6661            0            0            0            1            0   \n",
       "6662            0            0            0            0            0   \n",
       "6663            0            0            0            0            0   \n",
       "6664            0            0            0            1            0   \n",
       "\n",
       "      Var_1_Cat_6  Var_1_Cat_7  \n",
       "0               0            0  \n",
       "1               1            0  \n",
       "2               1            0  \n",
       "3               1            0  \n",
       "4               1            0  \n",
       "...           ...          ...  \n",
       "6660            1            0  \n",
       "6661            0            0  \n",
       "6662            1            0  \n",
       "6663            1            0  \n",
       "6664            0            0  \n",
       "\n",
       "[6665 rows x 26 columns]"
      ]
     },
     "execution_count": 1,
     "metadata": {},
     "output_type": "execute_result"
    }
   ],
   "source": [
    "# Import des librairies\n",
    "import pandas as pd\n",
    "import numpy as np\n",
    "import matplotlib.pyplot as plt\n",
    "import seaborn as sns\n",
    "\n",
    "\n",
    "df = pd.read_csv('data_clean.csv')\n",
    "df"
   ]
  },
  {
   "cell_type": "markdown",
   "metadata": {},
   "source": [
    "# 1. Préparation des données\n",
    "\n",
    "Cette première partie consiste à préparer les données pour l'entraînement des modèles de machine learning. Nous allons donc :\n",
    "- Séparer les variables explicatives de la variable cible\n",
    "- Séparer les données en deux ensembles : un ensemble d'entraînement et un ensemble de test\n",
    "- Standardiser les variables explicatives : cela consiste à centrer et réduire les variables explicatives pour qu'elles aient une moyenne de 0 et un écart-type de 1. Cela permet d'améliorer les performances des modèles de machine learning."
   ]
  },
  {
   "cell_type": "code",
   "execution_count": 2,
   "metadata": {},
   "outputs": [],
   "source": [
    "# Séparation des données en X et y\n",
    "X = df.drop(['Ever_Married'], axis=1)\n",
    "y = df['Ever_Married']"
   ]
  },
  {
   "cell_type": "code",
   "execution_count": 3,
   "metadata": {},
   "outputs": [],
   "source": [
    "# Standardisation des données\n",
    "from sklearn.preprocessing import StandardScaler\n",
    "\n",
    "scaler = StandardScaler()\n",
    "X = scaler.fit_transform(X)"
   ]
  },
  {
   "cell_type": "code",
   "execution_count": 4,
   "metadata": {},
   "outputs": [],
   "source": [
    "# Séparation des données en train et test\n",
    "from sklearn.model_selection import train_test_split\n",
    "\n",
    "X_train, X_test, y_train, y_test = train_test_split(X, y, test_size=0.2, random_state=42, stratify=df['Ever_Married'])"
   ]
  },
  {
   "cell_type": "code",
   "execution_count": 5,
   "metadata": {},
   "outputs": [
    {
     "data": {
      "text/plain": [
       "(6665, 25)"
      ]
     },
     "execution_count": 5,
     "metadata": {},
     "output_type": "execute_result"
    }
   ],
   "source": [
    "X.shape"
   ]
  },
  {
   "cell_type": "code",
   "execution_count": 6,
   "metadata": {},
   "outputs": [
    {
     "data": {
      "text/plain": [
       "(6665,)"
      ]
     },
     "execution_count": 6,
     "metadata": {},
     "output_type": "execute_result"
    }
   ],
   "source": [
    "y.shape"
   ]
  },
  {
   "cell_type": "code",
   "execution_count": 7,
   "metadata": {},
   "outputs": [
    {
     "data": {
      "text/plain": [
       "1"
      ]
     },
     "execution_count": 7,
     "metadata": {},
     "output_type": "execute_result"
    }
   ],
   "source": [
    "y[0]"
   ]
  },
  {
   "cell_type": "markdown",
   "metadata": {},
   "source": [
    "# 2. Entrainement d'un modèle supervisé de classification : [K-Nearest Neighbors](https://en.wikipedia.org/wiki/K-nearest_neighbors_algorithm)\n",
    "\n",
    "L'algorithme des k-plus proches voisins est un algorithme d'apprentissage supervisé. Il peut être utilisé pour la classification ou la régression. Dans les deux cas, l'entrée se compose des $k$ exemples d'entraînement les plus proches dans l'espace des caractéristiques. L'entrée est attribuée à la classe la plus fréquente parmi les $k$ exemples d'entraînement les plus proches (classification) ou la valeur moyenne de ces $k$ exemples (régression).\n",
    "\n",
    "\n",
    "<img src='https://upload.wikimedia.org/wikipedia/commons/thumb/e/e7/KnnClassification.svg/440px-KnnClassification.svg.png'>\n",
    "\n",
    "\n",
    "### Distance entre deux points\n",
    "\n",
    "La distance euclidienne $(d)$ entre deux points $(x_i)$ et $(x_j)$ dans l'espace des caractéristiques $X$ est définie par :\n",
    "\n",
    "$$d(x_i, x_j) =\\sqrt{\\sum_{k=1}^{m}(x_{i,k} - x_{j,k})^2}$$\n",
    "\n",
    "- $(X)$ : Espace des caractéristiques (variables d'entrée)\n",
    "- $(Y)$ : Espace des étiquettes (classes ou valeurs de sortie)\n",
    "- $(D)$ : Ensemble des données d'entraînement $D = {\\{(x_1, y_1), (x_2, y_2), ..., (x_n, y_n)}\\}$\n",
    "\n",
    "\n",
    "### Voisinage\n",
    "\n",
    "Le voisinage $N_k(x)$ est l'ensemble des $k$ voisins les plus proches de $x$ dans l'ensemble d'entraînement $D$, déterminé par la distance euclidienne.\n",
    "\n",
    "$$N_k(x) = \\{x_i \\in D \\ | \\ d(x, x_i) \\ \\text{est parmi les k plus petites}\\}$$\n",
    "\n",
    "### Classification\n",
    "\n",
    "Pour la classification, la classe majoritaire parmi les $k$ voisins est attribuée à $x$.\n",
    "\n",
    "$$y = \\underset{y_i}{\\text{argmax}} \\sum_{x_i \\in N_k(x)} I(y_i = y)$$\n",
    "\n",
    "### Régression\n",
    "\n",
    "Pour la régression, la valeur prédite pour $x$ est la moyenne des valeurs cibles des $k$ voisins.\n",
    "\n",
    "$$y = \\frac{1}{k} \\sum_{x_i \\in N_k(x)} y_i$$\n",
    "\n",
    "### Choix de $(k)$\n",
    "\n",
    "Le paramètre $k$ est crucial. Il peut être choisi par validation croisée ou d'autres méthodes. Un $k$ trop petit peut être sensible au bruit, tandis qu'un $k$ trop grand peut rendre l'algorithme trop général.\n",
    "\n",
    "\n",
    "### Avantages\n",
    "\n",
    "- Simple à comprendre et à mettre en œuvre\n",
    "- Peu de paramètres à régler\n",
    "- Peut être utilisé pour la classification et la régression\n",
    "\n",
    "### Inconvénients\n",
    "\n",
    "- Lent à prédire de nouvelles instances\n",
    "- Nécessite beaucoup de mémoire\n",
    "- Sensible aux caractéristiques non pertinentes et aux valeurs aberrantes\n",
    "\n",
    "### Import depuis scikit-learn\n",
    "\n",
    "La classe [KNeighborsClassifier](https://scikit-learn.org/stable/modules/generated/sklearn.neighbors.KNeighborsClassifier.html) de scikit-learn implémente l'algorithme des k-plus proches voisins pour la classification.\n"
   ]
  },
  {
   "cell_type": "code",
   "execution_count": 8,
   "metadata": {},
   "outputs": [],
   "source": [
    "# Import du modèle KNN de la bibliothèque sklearn\n",
    "from sklearn.neighbors import KNeighborsClassifier\n",
    "\n",
    "# Instanciation du modèle KNN avec 3 voisins\n",
    "knn = KNeighborsClassifier(n_neighbors=3)"
   ]
  },
  {
   "cell_type": "code",
   "execution_count": 9,
   "metadata": {},
   "outputs": [
    {
     "data": {
      "text/html": [
       "<style>#sk-container-id-1 {color: black;background-color: white;}#sk-container-id-1 pre{padding: 0;}#sk-container-id-1 div.sk-toggleable {background-color: white;}#sk-container-id-1 label.sk-toggleable__label {cursor: pointer;display: block;width: 100%;margin-bottom: 0;padding: 0.3em;box-sizing: border-box;text-align: center;}#sk-container-id-1 label.sk-toggleable__label-arrow:before {content: \"▸\";float: left;margin-right: 0.25em;color: #696969;}#sk-container-id-1 label.sk-toggleable__label-arrow:hover:before {color: black;}#sk-container-id-1 div.sk-estimator:hover label.sk-toggleable__label-arrow:before {color: black;}#sk-container-id-1 div.sk-toggleable__content {max-height: 0;max-width: 0;overflow: hidden;text-align: left;background-color: #f0f8ff;}#sk-container-id-1 div.sk-toggleable__content pre {margin: 0.2em;color: black;border-radius: 0.25em;background-color: #f0f8ff;}#sk-container-id-1 input.sk-toggleable__control:checked~div.sk-toggleable__content {max-height: 200px;max-width: 100%;overflow: auto;}#sk-container-id-1 input.sk-toggleable__control:checked~label.sk-toggleable__label-arrow:before {content: \"▾\";}#sk-container-id-1 div.sk-estimator input.sk-toggleable__control:checked~label.sk-toggleable__label {background-color: #d4ebff;}#sk-container-id-1 div.sk-label input.sk-toggleable__control:checked~label.sk-toggleable__label {background-color: #d4ebff;}#sk-container-id-1 input.sk-hidden--visually {border: 0;clip: rect(1px 1px 1px 1px);clip: rect(1px, 1px, 1px, 1px);height: 1px;margin: -1px;overflow: hidden;padding: 0;position: absolute;width: 1px;}#sk-container-id-1 div.sk-estimator {font-family: monospace;background-color: #f0f8ff;border: 1px dotted black;border-radius: 0.25em;box-sizing: border-box;margin-bottom: 0.5em;}#sk-container-id-1 div.sk-estimator:hover {background-color: #d4ebff;}#sk-container-id-1 div.sk-parallel-item::after {content: \"\";width: 100%;border-bottom: 1px solid gray;flex-grow: 1;}#sk-container-id-1 div.sk-label:hover label.sk-toggleable__label {background-color: #d4ebff;}#sk-container-id-1 div.sk-serial::before {content: \"\";position: absolute;border-left: 1px solid gray;box-sizing: border-box;top: 0;bottom: 0;left: 50%;z-index: 0;}#sk-container-id-1 div.sk-serial {display: flex;flex-direction: column;align-items: center;background-color: white;padding-right: 0.2em;padding-left: 0.2em;position: relative;}#sk-container-id-1 div.sk-item {position: relative;z-index: 1;}#sk-container-id-1 div.sk-parallel {display: flex;align-items: stretch;justify-content: center;background-color: white;position: relative;}#sk-container-id-1 div.sk-item::before, #sk-container-id-1 div.sk-parallel-item::before {content: \"\";position: absolute;border-left: 1px solid gray;box-sizing: border-box;top: 0;bottom: 0;left: 50%;z-index: -1;}#sk-container-id-1 div.sk-parallel-item {display: flex;flex-direction: column;z-index: 1;position: relative;background-color: white;}#sk-container-id-1 div.sk-parallel-item:first-child::after {align-self: flex-end;width: 50%;}#sk-container-id-1 div.sk-parallel-item:last-child::after {align-self: flex-start;width: 50%;}#sk-container-id-1 div.sk-parallel-item:only-child::after {width: 0;}#sk-container-id-1 div.sk-dashed-wrapped {border: 1px dashed gray;margin: 0 0.4em 0.5em 0.4em;box-sizing: border-box;padding-bottom: 0.4em;background-color: white;}#sk-container-id-1 div.sk-label label {font-family: monospace;font-weight: bold;display: inline-block;line-height: 1.2em;}#sk-container-id-1 div.sk-label-container {text-align: center;}#sk-container-id-1 div.sk-container {/* jupyter's `normalize.less` sets `[hidden] { display: none; }` but bootstrap.min.css set `[hidden] { display: none !important; }` so we also need the `!important` here to be able to override the default hidden behavior on the sphinx rendered scikit-learn.org. See: https://github.com/scikit-learn/scikit-learn/issues/21755 */display: inline-block !important;position: relative;}#sk-container-id-1 div.sk-text-repr-fallback {display: none;}</style><div id=\"sk-container-id-1\" class=\"sk-top-container\"><div class=\"sk-text-repr-fallback\"><pre>KNeighborsClassifier(n_neighbors=3)</pre><b>In a Jupyter environment, please rerun this cell to show the HTML representation or trust the notebook. <br />On GitHub, the HTML representation is unable to render, please try loading this page with nbviewer.org.</b></div><div class=\"sk-container\" hidden><div class=\"sk-item\"><div class=\"sk-estimator sk-toggleable\"><input class=\"sk-toggleable__control sk-hidden--visually\" id=\"sk-estimator-id-1\" type=\"checkbox\" checked><label for=\"sk-estimator-id-1\" class=\"sk-toggleable__label sk-toggleable__label-arrow\">KNeighborsClassifier</label><div class=\"sk-toggleable__content\"><pre>KNeighborsClassifier(n_neighbors=3)</pre></div></div></div></div></div>"
      ],
      "text/plain": [
       "KNeighborsClassifier(n_neighbors=3)"
      ]
     },
     "execution_count": 9,
     "metadata": {},
     "output_type": "execute_result"
    }
   ],
   "source": [
    "# Entraînement du modèle\n",
    "knn.fit(X_train, y_train)"
   ]
  },
  {
   "cell_type": "code",
   "execution_count": 10,
   "metadata": {},
   "outputs": [
    {
     "data": {
      "text/plain": [
       "array([1, 0, 0, ..., 1, 1, 0])"
      ]
     },
     "execution_count": 10,
     "metadata": {},
     "output_type": "execute_result"
    }
   ],
   "source": [
    "# Prédiction sur les données de test\n",
    "y_pred = knn.predict(X_test)\n",
    "y_pred"
   ]
  },
  {
   "cell_type": "markdown",
   "metadata": {},
   "source": [
    "## 2. [Métriques d'évaluation](https://scikit-learn.org/stable/modules/classes.html#module-sklearn.metrics) des modèles de classification\n",
    "\n",
    "Il existe plusieurs métriques adaptées à l'évaluation de modèles de classification multiclasse. Le choix de la métrique dépend souvent de la nature spécifique de votre problème et de ce que vous souhaitez prioriser dans l'évaluation du modèle. Voici quelques métriques couramment utilisées pour la classification multiclasse :\n",
    "\n",
    "1. **Matrice de Confusion :** Elle présente le nombre de prédictions correctes et incorrectes pour chaque classe, offrant une vue détaillée des performances du modèle.\n",
    "\n",
    "2. **Précision (Precision) :** Mesure la proportion de prédictions positives correctes parmi l'ensemble des prédictions positives. Elle se calcule comme le rapport entre les vrais positifs et la somme des vrais positifs et des faux positifs.\n",
    "\n",
    "   $\\text{Précision} = \\frac{\\text{Vrais Positifs}}{\\text{Vrais Positifs + Faux Positifs}}$\n",
    "\n",
    "3. **Rappel (Recall) :** Mesure la proportion de vrais positifs parmi l'ensemble des exemples réellement positifs. Il se calcule comme le rapport entre les vrais positifs et la somme des vrais positifs et des faux négatifs.\n",
    "\n",
    "   $\\text{Rappel} = \\frac{\\text{Vrais Positifs}}{\\text{Vrais Positifs + Faux Négatifs}}$\n",
    "\n",
    "4. **F1 Score :** Il combine la précision et le rappel en une seule métrique en calculant leur moyenne harmonique. C'est particulièrement utile lorsque vous souhaitez trouver un équilibre entre la précision et le rappel.\n",
    "\n",
    "   $\\text{F1 Score} = 2 \\times \\frac{\\text{Précision} \\times \\text{Rappel}}{\\text{Précision + Rappel}}$\n",
    "\n",
    "5. **Exactitude (Accuracy) :** Mesure la proportion totale de prédictions correctes parmi toutes les prédictions. C'est une métrique simple mais peut être trompeuse si les classes ne sont pas équilibrées.\n",
    "\n",
    "   $\\text{Exactitude} = \\frac{\\text{Vrais Positifs + Vrais Négatifs}}{\\text{Total de Prédictions}}$\n",
    "\n",
    "6. **Log Loss :** Cette métrique mesure la performance du modèle en termes de probabilités prédites par rapport aux vraies étiquettes. Elle est souvent utilisée dans les problèmes de classification probabiliste.\n",
    "\n",
    "   $\\text{Log Loss} = -\\frac{1}{N}\\sum_{i=1}^{N}\\sum_{j=1}^{M}y_{ij} \\log(p_{ij})$\n",
    "\n",
    "   où $N$ est le nombre d'observations, $M$ est le nombre de classes, $y_{ij}$ est un indicateur binaire de la classe réelle, et $p_{ij}$ est la probabilité prédite d'appartenir à la classe $j$.\n",
    "\n",
    "7. **AUC-ROC (Area Under the Receiver Operating Characteristic curve) :** Cette métrique évalue la capacité du modèle à distinguer les différentes classes. Elle est particulièrement utile lorsque les classes sont déséquilibrées.\n",
    "\n",
    "Il est recommandé d'utiliser une combinaison de ces métriques en fonction de la nature spécifique de votre problème et de vos objectifs d'évaluation.\n"
   ]
  },
  {
   "cell_type": "code",
   "execution_count": 11,
   "metadata": {},
   "outputs": [
    {
     "name": "stdout",
     "output_type": "stream",
     "text": [
      "Accuracy: 0.8447111777944486\n"
     ]
    }
   ],
   "source": [
    "# Import de la fonction accuracy_score de la bibliothèque sklearn\n",
    "from sklearn.metrics import accuracy_score\n",
    "\n",
    "acc = accuracy_score(y_test, y_pred)\n",
    "print(f'Accuracy: {acc}')"
   ]
  },
  {
   "cell_type": "code",
   "execution_count": 12,
   "metadata": {},
   "outputs": [
    {
     "name": "stdout",
     "output_type": "stream",
     "text": [
      "F1-Score: 0.8453062850743644\n"
     ]
    }
   ],
   "source": [
    "# Import de la fonction f1_score de la bibliothèque sklearn\n",
    "from sklearn.metrics import f1_score\n",
    "\n",
    "f1 = f1_score(y_test, y_pred, average='weighted')\n",
    "print(f'F1-Score: {f1}')"
   ]
  },
  {
   "cell_type": "code",
   "execution_count": 13,
   "metadata": {},
   "outputs": [
    {
     "name": "stdout",
     "output_type": "stream",
     "text": [
      "Rapport de classification: \n",
      "              precision    recall  f1-score   support\n",
      "\n",
      "           0       0.88      0.85      0.87       789\n",
      "           1       0.79      0.84      0.82       544\n",
      "\n",
      "    accuracy                           0.84      1333\n",
      "   macro avg       0.84      0.84      0.84      1333\n",
      "weighted avg       0.85      0.84      0.85      1333\n",
      "\n"
     ]
    }
   ],
   "source": [
    "# Import de la fonction  classification_report de la bibliothèque sklearn\n",
    "from sklearn.metrics import classification_report\n",
    "\n",
    "print( \"Rapport de classification: \")\n",
    "print(classification_report(y_test, y_pred))"
   ]
  },
  {
   "cell_type": "code",
   "execution_count": 14,
   "metadata": {},
   "outputs": [
    {
     "name": "stdout",
     "output_type": "stream",
     "text": [
      "Matrice de confusion: \n",
      "\n",
      "[[670 119]\n",
      " [ 88 456]]\n"
     ]
    }
   ],
   "source": [
    "# Matrice de confusion\n",
    "from sklearn.metrics import confusion_matrix\n",
    "\n",
    "print(\"Matrice de confusion: \\n\")\n",
    "print(confusion_matrix(y_test, y_pred))"
   ]
  },
  {
   "cell_type": "code",
   "execution_count": 15,
   "metadata": {},
   "outputs": [
    {
     "data": {
      "image/png": "[encoded data removed]",
      "text/plain": [
       "<Figure size 720x720 with 2 Axes>"
      ]
     },
     "metadata": {
      "needs_background": "light"
     },
     "output_type": "display_data"
    }
   ],
   "source": [
    "# Graphique de la matrice de confusion\n",
    "plt.figure(figsize=(10, 10))\n",
    "sns.heatmap(confusion_matrix(y_test, y_pred), annot=True, cmap='Blues')\n",
    "plt.title('Matrice de Confusion')\n",
    "plt.xlabel('Prédiction')\n",
    "plt.ylabel('Vraie Valeur')\n",
    "plt.show()"
   ]
  },
  {
   "cell_type": "markdown",
   "metadata": {},
   "source": [
    "## Optimisation des hyperparamètres [Grid Search](https://scikit-learn.org/stable/modules/generated/sklearn.model_selection.GridSearchCV.html)\n",
    "\n",
    "Les hyperparamètres sont des paramètres qui ne sont pas appris par le modèle. Ils sont définis avant le début du processus d'apprentissage. Ils sont souvent optimisés par recherche par grille ou par recherche aléatoire.\n",
    "\n",
    "La classe [GridSearchCV](https://scikit-learn.org/stable/modules/generated/sklearn.model_selection.GridSearchCV.html) de scikit-learn implémente la recherche par grille pour l'optimisation des hyperparamètres.\n",
    "\n",
    "La cross-validation est utilisée pour évaluer les performances de chaque combinaison d'hyperparamètres. La combinaison d'hyperparamètres qui donne les meilleures performances est sélectionnée. \n",
    "\n",
    "<img src='https://scikit-learn.org/stable/_images/grid_search_cross_validation.png'>"
   ]
  },
  {
   "cell_type": "code",
   "execution_count": 16,
   "metadata": {},
   "outputs": [
    {
     "name": "stdout",
     "output_type": "stream",
     "text": [
      "Fitting 5 folds for each of 28 candidates, totalling 140 fits\n"
     ]
    },
    {
     "data": {
      "text/html": [
       "<style>#sk-container-id-2 {color: black;background-color: white;}#sk-container-id-2 pre{padding: 0;}#sk-container-id-2 div.sk-toggleable {background-color: white;}#sk-container-id-2 label.sk-toggleable__label {cursor: pointer;display: block;width: 100%;margin-bottom: 0;padding: 0.3em;box-sizing: border-box;text-align: center;}#sk-container-id-2 label.sk-toggleable__label-arrow:before {content: \"▸\";float: left;margin-right: 0.25em;color: #696969;}#sk-container-id-2 label.sk-toggleable__label-arrow:hover:before {color: black;}#sk-container-id-2 div.sk-estimator:hover label.sk-toggleable__label-arrow:before {color: black;}#sk-container-id-2 div.sk-toggleable__content {max-height: 0;max-width: 0;overflow: hidden;text-align: left;background-color: #f0f8ff;}#sk-container-id-2 div.sk-toggleable__content pre {margin: 0.2em;color: black;border-radius: 0.25em;background-color: #f0f8ff;}#sk-container-id-2 input.sk-toggleable__control:checked~div.sk-toggleable__content {max-height: 200px;max-width: 100%;overflow: auto;}#sk-container-id-2 input.sk-toggleable__control:checked~label.sk-toggleable__label-arrow:before {content: \"▾\";}#sk-container-id-2 div.sk-estimator input.sk-toggleable__control:checked~label.sk-toggleable__label {background-color: #d4ebff;}#sk-container-id-2 div.sk-label input.sk-toggleable__control:checked~label.sk-toggleable__label {background-color: #d4ebff;}#sk-container-id-2 input.sk-hidden--visually {border: 0;clip: rect(1px 1px 1px 1px);clip: rect(1px, 1px, 1px, 1px);height: 1px;margin: -1px;overflow: hidden;padding: 0;position: absolute;width: 1px;}#sk-container-id-2 div.sk-estimator {font-family: monospace;background-color: #f0f8ff;border: 1px dotted black;border-radius: 0.25em;box-sizing: border-box;margin-bottom: 0.5em;}#sk-container-id-2 div.sk-estimator:hover {background-color: #d4ebff;}#sk-container-id-2 div.sk-parallel-item::after {content: \"\";width: 100%;border-bottom: 1px solid gray;flex-grow: 1;}#sk-container-id-2 div.sk-label:hover label.sk-toggleable__label {background-color: #d4ebff;}#sk-container-id-2 div.sk-serial::before {content: \"\";position: absolute;border-left: 1px solid gray;box-sizing: border-box;top: 0;bottom: 0;left: 50%;z-index: 0;}#sk-container-id-2 div.sk-serial {display: flex;flex-direction: column;align-items: center;background-color: white;padding-right: 0.2em;padding-left: 0.2em;position: relative;}#sk-container-id-2 div.sk-item {position: relative;z-index: 1;}#sk-container-id-2 div.sk-parallel {display: flex;align-items: stretch;justify-content: center;background-color: white;position: relative;}#sk-container-id-2 div.sk-item::before, #sk-container-id-2 div.sk-parallel-item::before {content: \"\";position: absolute;border-left: 1px solid gray;box-sizing: border-box;top: 0;bottom: 0;left: 50%;z-index: -1;}#sk-container-id-2 div.sk-parallel-item {display: flex;flex-direction: column;z-index: 1;position: relative;background-color: white;}#sk-container-id-2 div.sk-parallel-item:first-child::after {align-self: flex-end;width: 50%;}#sk-container-id-2 div.sk-parallel-item:last-child::after {align-self: flex-start;width: 50%;}#sk-container-id-2 div.sk-parallel-item:only-child::after {width: 0;}#sk-container-id-2 div.sk-dashed-wrapped {border: 1px dashed gray;margin: 0 0.4em 0.5em 0.4em;box-sizing: border-box;padding-bottom: 0.4em;background-color: white;}#sk-container-id-2 div.sk-label label {font-family: monospace;font-weight: bold;display: inline-block;line-height: 1.2em;}#sk-container-id-2 div.sk-label-container {text-align: center;}#sk-container-id-2 div.sk-container {/* jupyter's `normalize.less` sets `[hidden] { display: none; }` but bootstrap.min.css set `[hidden] { display: none !important; }` so we also need the `!important` here to be able to override the default hidden behavior on the sphinx rendered scikit-learn.org. See: https://github.com/scikit-learn/scikit-learn/issues/21755 */display: inline-block !important;position: relative;}#sk-container-id-2 div.sk-text-repr-fallback {display: none;}</style><div id=\"sk-container-id-2\" class=\"sk-top-container\"><div class=\"sk-text-repr-fallback\"><pre>GridSearchCV(cv=5, estimator=KNeighborsClassifier(), n_jobs=-1,\n",
       "             param_grid={&#x27;metric&#x27;: [&#x27;euclidean&#x27;, &#x27;manhattan&#x27;],\n",
       "                         &#x27;n_neighbors&#x27;: [3, 5, 7, 9, 11, 13, 15],\n",
       "                         &#x27;weights&#x27;: [&#x27;uniform&#x27;, &#x27;distance&#x27;]},\n",
       "             scoring=&#x27;recall_macro&#x27;, verbose=1)</pre><b>In a Jupyter environment, please rerun this cell to show the HTML representation or trust the notebook. <br />On GitHub, the HTML representation is unable to render, please try loading this page with nbviewer.org.</b></div><div class=\"sk-container\" hidden><div class=\"sk-item sk-dashed-wrapped\"><div class=\"sk-label-container\"><div class=\"sk-label sk-toggleable\"><input class=\"sk-toggleable__control sk-hidden--visually\" id=\"sk-estimator-id-2\" type=\"checkbox\" ><label for=\"sk-estimator-id-2\" class=\"sk-toggleable__label sk-toggleable__label-arrow\">GridSearchCV</label><div class=\"sk-toggleable__content\"><pre>GridSearchCV(cv=5, estimator=KNeighborsClassifier(), n_jobs=-1,\n",
       "             param_grid={&#x27;metric&#x27;: [&#x27;euclidean&#x27;, &#x27;manhattan&#x27;],\n",
       "                         &#x27;n_neighbors&#x27;: [3, 5, 7, 9, 11, 13, 15],\n",
       "                         &#x27;weights&#x27;: [&#x27;uniform&#x27;, &#x27;distance&#x27;]},\n",
       "             scoring=&#x27;recall_macro&#x27;, verbose=1)</pre></div></div></div><div class=\"sk-parallel\"><div class=\"sk-parallel-item\"><div class=\"sk-item\"><div class=\"sk-label-container\"><div class=\"sk-label sk-toggleable\"><input class=\"sk-toggleable__control sk-hidden--visually\" id=\"sk-estimator-id-3\" type=\"checkbox\" ><label for=\"sk-estimator-id-3\" class=\"sk-toggleable__label sk-toggleable__label-arrow\">estimator: KNeighborsClassifier</label><div class=\"sk-toggleable__content\"><pre>KNeighborsClassifier()</pre></div></div></div><div class=\"sk-serial\"><div class=\"sk-item\"><div class=\"sk-estimator sk-toggleable\"><input class=\"sk-toggleable__control sk-hidden--visually\" id=\"sk-estimator-id-4\" type=\"checkbox\" ><label for=\"sk-estimator-id-4\" class=\"sk-toggleable__label sk-toggleable__label-arrow\">KNeighborsClassifier</label><div class=\"sk-toggleable__content\"><pre>KNeighborsClassifier()</pre></div></div></div></div></div></div></div></div></div></div>"
      ],
      "text/plain": [
       "GridSearchCV(cv=5, estimator=KNeighborsClassifier(), n_jobs=-1,\n",
       "             param_grid={'metric': ['euclidean', 'manhattan'],\n",
       "                         'n_neighbors': [3, 5, 7, 9, 11, 13, 15],\n",
       "                         'weights': ['uniform', 'distance']},\n",
       "             scoring='recall_macro', verbose=1)"
      ]
     },
     "execution_count": 16,
     "metadata": {},
     "output_type": "execute_result"
    }
   ],
   "source": [
    "# Import du module GridSearchCV de la bibliothèque sklearn\n",
    "from sklearn.model_selection import GridSearchCV\n",
    "\n",
    "# Définition des paramètres du modèle knn\n",
    "param_grid = {'n_neighbors': [3, 5, 7, 9, 11, 13, 15],\n",
    "                'weights': ['uniform', 'distance'],\n",
    "                'metric': ['euclidean', 'manhattan']\n",
    "              }\n",
    "\n",
    "# Unifom : tous les points de chaque voisin ont le même poids\n",
    "# Distance : les points les plus proches ont un poids plus important\n",
    "\n",
    "# Définition du modèle knn dans la variable knn\n",
    "knn = KNeighborsClassifier()\n",
    "\n",
    "# Définition du modèle GridSearchCV dans la variable grid_search\n",
    "grid_search = GridSearchCV(knn, param_grid, scoring='recall_macro', cv=5, n_jobs=-1, verbose=1)\n",
    "\n",
    "# Entraînement du modèle grid_search\n",
    "grid_search.fit(X_train, y_train)"
   ]
  },
  {
   "cell_type": "code",
   "execution_count": 17,
   "metadata": {},
   "outputs": [
    {
     "data": {
      "text/plain": [
       "{'metric': 'manhattan', 'n_neighbors': 15, 'weights': 'uniform'}"
      ]
     },
     "execution_count": 17,
     "metadata": {},
     "output_type": "execute_result"
    }
   ],
   "source": [
    "# Affichage des meilleurs paramètres\n",
    "grid_search.best_params_"
   ]
  },
  {
   "cell_type": "code",
   "execution_count": 18,
   "metadata": {},
   "outputs": [
    {
     "name": "stdout",
     "output_type": "stream",
     "text": [
      "Accuracy: 0.8619654913728432\n"
     ]
    }
   ],
   "source": [
    "y_pred = grid_search.predict(X_test)\n",
    "acc = accuracy_score(y_test, y_pred)\n",
    "print(f'Accuracy: {acc}')"
   ]
  },
  {
   "cell_type": "code",
   "execution_count": 19,
   "metadata": {},
   "outputs": [
    {
     "data": {
      "image/png": "[encoded data removed]",
      "text/plain": [
       "<Figure size 720x720 with 2 Axes>"
      ]
     },
     "metadata": {
      "needs_background": "light"
     },
     "output_type": "display_data"
    }
   ],
   "source": [
    "# Graphique de la matrice de confusion\n",
    "plt.figure(figsize=(10, 10))\n",
    "sns.heatmap(confusion_matrix(y_test, y_pred), annot=True, cmap='Blues')\n",
    "plt.title('Matrice de Confusion')\n",
    "plt.xlabel('Prédiction')\n",
    "plt.ylabel('Vraie Valeur')\n",
    "plt.show()"
   ]
  },
  {
   "cell_type": "markdown",
   "metadata": {},
   "source": [
    "## 3. [Régression Logistique](https://scikit-learn.org/stable/modules/generated/sklearn.linear_model.LogisticRegression.html)\n",
    "\n",
    "La régression logistique est un algorithme d'apprentissage supervisé utilisé pour résoudre des problèmes de classification. Elle est adaptée aux tâches de classification binaire et multiclasse.\n",
    "\n",
    "<img src='https://upload.wikimedia.org/wikipedia/commons/thumb/c/cb/Exam_pass_logistic_curve.svg/800px-Exam_pass_logistic_curve.svg.png'>\n",
    "\n",
    "## Principe de la Régression Logistique\n",
    "\n",
    "1. **Fonction Logistique (Sigmoïde) :** La régression logistique utilise une fonction logistique, également appelée fonction sigmoïde, pour modéliser la probabilité qu'une observation appartienne à une classe particulière. La fonction sigmoïde a la forme :\n",
    "\n",
    "   $$f(x) = \\frac{1}{1 + e^{-x}}$$\n",
    "\n",
    "   Cette fonction transforme toute valeur réelle en une plage entre 0 et 1.\n",
    "\n",
    "2. **Probabilité et Décision :** Une fois que le modèle a calculé la probabilité d'appartenance à une classe, une décision est prise en fonction d'un seuil. Si la probabilité est supérieure au seuil, l'observation est classée dans la classe positive ; sinon, elle est classée dans la classe négative.\n",
    "\n",
    "## Équation de la Régression Logistique Binaire\n",
    "\n",
    "La régression logistique binaire peut être exprimée mathématiquement comme suit :\n",
    "\n",
    "$$p(Y=1|X) = \\frac{1}{1 + e^{-(\\beta_0 + \\beta_1 X_1 + \\beta_2 X_2 + ... + \\beta_n X_n)}}$$\n",
    "\n",
    "où :\n",
    "- $p(Y=1|X)$ est la probabilité que la classe soit 1 (positive) étant donné l'ensemble de caractéristiques $X$.\n",
    "- $\\beta_0$ est le terme de biais.\n",
    "- $\\beta_1, \\beta_2, ..., \\beta_n$ sont les coefficients associés aux caractéristiques $X_1, X_2, ..., X_n$.\n",
    "\n",
    "## Entraînement de la Régression Logistique\n",
    "\n",
    "L'entraînement de la régression logistique implique l'ajustement des coefficients ($\\beta$) en utilisant des techniques d'optimisation pour maximiser la vraisemblance du modèle par rapport aux données d'entraînement.\n",
    "\n",
    "## Applications\n",
    "\n",
    "La régression logistique est largement utilisée dans divers domaines, tels que la prédiction de la probabilité de défaut de paiement, la détection de spam, la classification de patients en fonction de leurs symptômes, etc.\n"
   ]
  },
  {
   "cell_type": "code",
   "execution_count": 20,
   "metadata": {},
   "outputs": [
    {
     "data": {
      "text/plain": [
       "0.8717179294823706"
      ]
     },
     "execution_count": 20,
     "metadata": {},
     "output_type": "execute_result"
    }
   ],
   "source": [
    "# Import du modèle\n",
    "from sklearn.linear_model import LogisticRegression\n",
    "\n",
    "\n",
    "# Deffinition du modèle dans la variable lf\n",
    "lr = LogisticRegression()\n",
    "\n",
    "# Entraînement du modèle\n",
    "lr.fit(X_train, y_train.values)\n",
    "\n",
    "# Prédiction\n",
    "y_pred = lr.predict(X_test)\n",
    "\n",
    "# Calcul de l'accuracy\n",
    "accuracy_score(y_test, y_pred)"
   ]
  },
  {
   "cell_type": "code",
   "execution_count": 21,
   "metadata": {},
   "outputs": [
    {
     "data": {
      "text/plain": [
       "array([[ 0.34225456, -1.61004317, -0.01806573,  0.00587273, -0.06481691,\n",
       "        -0.16874824, -0.06533155,  0.05998521, -0.14177214, -0.03934833,\n",
       "        -0.32128439,  0.32139514, -0.02476392,  0.1372312 ,  0.00563372,\n",
       "        -1.57505456, -1.1458555 ,  2.22761691, -0.10266039,  0.21569436,\n",
       "        -0.03639117, -0.0811776 , -0.04443412,  0.02112455, -0.02364173]])"
      ]
     },
     "execution_count": 21,
     "metadata": {},
     "output_type": "execute_result"
    }
   ],
   "source": [
    "# Coefficients du modèle\n",
    "lr.coef_"
   ]
  },
  {
   "cell_type": "code",
   "execution_count": 22,
   "metadata": {},
   "outputs": [
    {
     "data": {
      "text/plain": [
       "Text(69.0, 0.5, 'Vraie Valeur')"
      ]
     },
     "execution_count": 22,
     "metadata": {},
     "output_type": "execute_result"
    },
    {
     "data": {
      "image/png": "[encoded data removed]",
      "text/plain": [
       "<Figure size 720x720 with 2 Axes>"
      ]
     },
     "metadata": {
      "needs_background": "light"
     },
     "output_type": "display_data"
    }
   ],
   "source": [
    "# Graphique de la matrice de confusion\n",
    "plt.figure(figsize=(10, 10))\n",
    "sns.heatmap(confusion_matrix(y_test, y_pred), annot=True, cmap='Blues')\n",
    "plt.title('Matrice de Confusion')\n",
    "plt.xlabel('Prédiction')\n",
    "plt.ylabel('Vraie Valeur')"
   ]
  },
  {
   "cell_type": "markdown",
   "metadata": {},
   "source": [
    "# 4. [Decision Tree Classifier](https://scikit-learn.org/stable/modules/generated/sklearn.tree.DecisionTreeClassifier.html)\n",
    "\n",
    "Le `DecisionTreeClassifier` est un algorithme d'apprentissage supervisé utilisé pour résoudre des problèmes de classification. Il appartient à la famille des arbres de décision, qui sont des modèles basés sur la prise de décision séquentielle.\n",
    "\n",
    "<img src='https://miro.medium.com/v2/resize:fit:663/1*xGsYc6aXehD7lyoLEn-mMA.png'>\n",
    "\n",
    "## Principe du Decision Tree\n",
    "\n",
    "1. **Arbre de Décision :** Un arbre de décision est une structure arborescente composée de nœuds de décision et de feuilles. Chaque nœud de décision teste une caractéristique, et chaque branche représente le résultat de ce test.\n",
    "\n",
    "2. **Apprentissage :** L'algorithme apprend à diviser les données d'entraînement en fonction des caractéristiques pour maximiser la pureté des nœuds. Cela se fait récursivement jusqu'à ce que chaque feuille contienne des exemples d'une seule classe.\n",
    "\n",
    "## Avantages\n",
    "\n",
    "- **Interprétabilité :** Les arbres de décision sont faciles à interpréter et à visualiser, ce qui en fait un outil précieux pour comprendre les décisions du modèle.\n",
    "\n",
    "- **Aucune Normalisation :** Aucune normalisation des caractéristiques n'est nécessaire, ce qui peut être un avantage lorsque les données ont des échelles différentes.\n",
    "\n",
    "## Inconvénients\n",
    "\n",
    "- **Surajustement :** Les arbres de décision peuvent avoir tendance à surajuster les données d'entraînement, ce qui signifie qu'ils peuvent être trop complexes et ne pas généraliser correctement sur de nouvelles données."
   ]
  },
  {
   "cell_type": "code",
   "execution_count": 23,
   "metadata": {},
   "outputs": [],
   "source": [
    "# Import du modèle DecisionTreeClassifier de la bibliothèque sklearn\n",
    "\n",
    "\n",
    "# Définition du modèle DecisionTreeClassifier dans la variable dt\n",
    "\n",
    "\n",
    "# Entraînement du modèle\n",
    "\n",
    "\n",
    "# Prédiction\n",
    "\n",
    "\n",
    "# Calcul de l'accuracy\n",
    "\n",
    "\n",
    "\n",
    "# Graphique de la matrice de confusion\n"
   ]
  },
  {
   "cell_type": "code",
   "execution_count": null,
   "metadata": {},
   "outputs": [],
   "source": []
  },
  {
   "cell_type": "code",
   "execution_count": null,
   "metadata": {},
   "outputs": [],
   "source": []
  },
  {
   "cell_type": "code",
   "execution_count": null,
   "metadata": {},
   "outputs": [],
   "source": []
  },
  {
   "cell_type": "markdown",
   "metadata": {},
   "source": [
    "## 5. Deep Learning : Le [Perceptron](https://scikit-learn.org/stable/modules/generated/sklearn.linear_model.Perceptron.html#sklearn.linear_model.Perceptron)\n",
    "\n",
    "Un perceptron est un algorithme d'apprentissage automatique supervisé. Il a été développé dans les années 1950 et est considéré comme la plus petite unité de base dans un réseau de neurones.\n",
    "\n",
    "Un neurone est la cellule de base du système nerveux, responsable de la transmission de l'information électrique dans le corps. Un neurone est constitué de trois parties principales : le corps cellulaire, les dendrites et l'axone. Les dendrites reçoivent les signaux électriques provenant d'autres neurones ou de l'environnement, et les transmettent au corps cellulaire. Le corps cellulaire intègre les signaux entrants et, si la somme de ces signaux dépasse un seuil de déclenchement, il envoie un signal électrique le long de l'axone, qui transmet l'information à d'autres neurones.\n",
    "\n",
    "\n",
    "<img src='https://appliedgo.net/media/perceptron/neuron.png'>\n",
    "\n",
    "Les perceptrons sont une abstraction simplifiée des neurones biologiques. Il a été proposé par Frank Rosenblatt en 1957. Il s'agit d'un modèle de neurone artificiel qui peut être utilisé pour résoudre des problèmes de classification binaire. Il prend plusieurs entrées binaires $(x_1, x_2, \\ldots, x_n)$ et produit une seule sortie binaire $(y)$. La formule du perceptron peut être exprimée comme suit :\n",
    "\n",
    "$$y = \\text{H}(\\sum_{i=1}^{n} w_i \\cdot x_i + b)$$\n",
    "\n",
    "- $\\sum_{i=1}^{n} w_i \\cdot x_i$ représente la somme pondérée des entrées $(x_i)$ avec leurs poids correspondants $(w_i)$.\n",
    "- $b$ est le biais (ou terme de seuil).\n",
    "- $\\text{H}(z)$ est une fonction d'activation appelée fonction échelon, définie comme suit : \n",
    "\n",
    "$$\\text{H}(z) = \\begin{cases} 1, & \\text{si } z \\geq 0 \\\\ 0, & \\text{sinon} \\end{cases}$$\n",
    "\n",
    "### Fonctionnement du Perceptron\n",
    "\n",
    "1. Les entrées binaires $(x_i)$ sont multipliées par leurs poids correspondants $(w_i)$.\n",
    "2. La somme pondérée est calculée en ajoutant ces produits.\n",
    "3. Le biais $(b)$ est ajouté à cette somme.\n",
    "4. Le résultat est passé à travers la fonction d'activation (fonction échelon) pour produire la sortie binaire du perceptron.\n",
    "\n",
    "### Explication\n",
    "\n",
    "Le perceptron est un algorithme d'apprentissage automatique classique qui a été largement étudié et utilisé, et il a posé les bases pour le développement de réseaux de neurones artificiels plus complexes. Il est utilisé pour résoudre des problèmes de classification binaire, tels que la classification des images, la détection de spam, etc."
   ]
  },
  {
   "cell_type": "code",
   "execution_count": 24,
   "metadata": {},
   "outputs": [
    {
     "name": "stdout",
     "output_type": "stream",
     "text": [
      "X.shape = (6665, 25)\n",
      "y.shape = (6665,)\n",
      "X[0] = [-0.90145382 -1.30341502  1.32615687 -0.4784302   0.76011295 -1.29923992\n",
      " -0.70003673 -0.31221892 -0.30931614 -0.37168388 -0.2863224   2.27782496\n",
      " -0.16420889 -0.28478589 -0.19032899 -0.57636853 -0.42113397  0.81649658\n",
      " -0.12590172 -0.23965176 -0.32422759  2.61732922 -0.10595957 -1.4299543\n",
      " -0.15981987]\n"
     ]
    }
   ],
   "source": [
    "# Pour rappel, X est la matrice des variables explicatives et y est le vecteur de la variable cible\n",
    "print( \"X.shape =\", X.shape)\n",
    "print( \"y.shape =\", y.shape)\n",
    "print( \"X[0] =\", X[0])"
   ]
  },
  {
   "cell_type": "code",
   "execution_count": 25,
   "metadata": {},
   "outputs": [],
   "source": [
    "import random\n",
    "import numpy as np\n",
    "\n",
    "num_inputs = 25\n",
    "\n",
    "# Initialisation des poids et du biais\n",
    "weights = [random.uniform(-1,1) for _ in range(num_inputs)]\n",
    "bias = random.uniform(-1,1)"
   ]
  },
  {
   "cell_type": "code",
   "execution_count": 26,
   "metadata": {},
   "outputs": [
    {
     "data": {
      "text/plain": [
       "-0.6302977159122229"
      ]
     },
     "execution_count": 26,
     "metadata": {},
     "output_type": "execute_result"
    }
   ],
   "source": [
    "z = (X[0]*weights).sum() + bias\n",
    "z"
   ]
  },
  {
   "cell_type": "code",
   "execution_count": 27,
   "metadata": {},
   "outputs": [
    {
     "data": {
      "text/plain": [
       "0"
      ]
     },
     "execution_count": 27,
     "metadata": {},
     "output_type": "execute_result"
    }
   ],
   "source": [
    "# Définition de la fonction d'activation\n",
    "def activation(z):\n",
    "    return 1 if z >= 0 else 0\n",
    "\n",
    "activation(z)"
   ]
  },
  {
   "cell_type": "markdown",
   "metadata": {},
   "source": [
    "### Mise à Jour des Poids avec [Correction d'Erreur](https://fr.wikipedia.org/wiki/Perceptron#R%C3%A8gle_d'apprentissage_du_perceptron_(loi_de_Widrow-Hoff):~:text=R%C3%A8gle%20de%20Hebb-,R%C3%A8gle%20d%27apprentissage%20du%20perceptron%20(loi%20de%20Widrow%2DHoff),-Notes%20et%20r%C3%A9f%C3%A9rences)\n",
    "\n",
    "Cette méthode est utilisée dans le contexte de l'apprentissage automatique supervisé, où un modèle ajuste ses paramètres pour minimiser l'erreur entre ses prédictions ($Y$) et les valeurs réelles ($Y_t$).\n",
    "\n",
    "La formule de mise à jour des poids avec correction d'erreur est la suivante :\n",
    "\n",
    "$ W'_i = W_i + \\alpha \\cdot (Y_t - Y) \\cdot X_i $\n",
    "\n",
    "- $ W_i $ : Poids actuel associé à la caractéristique (ou entrée) $X_i$.\n",
    "- $ Y $ : La sortie prédite par le modèle.\n",
    "- $ Y_t $ : La cible réelle ou la vérité terrain.\n",
    "- $ X_i $ : La caractéristique (ou entrée) correspondante au poids $W_i$.\n",
    "- $ \\alpha $ : Le taux d'apprentissage, qui détermine la taille du pas de mise à jour.\n",
    "\n",
    "Dans cette formule, $ (Y_t - Y) $ représente la correction d'erreur, indiquant la différence entre la sortie réelle ($Y_t$) et la sortie prédite ($Y$). La correction est alors utilisée pour ajuster les poids proportionnellement à la caractéristique ($X_i$). Le taux d'apprentissage ($\\alpha$) contrôle l'amplitude des changements de poids.\n",
    "\n",
    "Cette approche permet au modèle de s'ajuster plus précisément aux erreurs de prédiction, guidant ses poids vers des valeurs qui minimisent l'écart entre les prédictions et les véritables valeurs cibles."
   ]
  },
  {
   "cell_type": "code",
   "execution_count": 28,
   "metadata": {},
   "outputs": [
    {
     "data": {
      "text/plain": [
       "array([ 0.0969025 , -0.26534892,  0.27110116,  0.06614645,  1.26735649,\n",
       "       -0.71686762,  0.48350363,  0.49272085, -0.59725285, -0.10858757,\n",
       "        0.81379537,  1.08929628,  0.82589846,  0.48214118, -1.00956377,\n",
       "       -0.30159016, -1.05404566,  0.26423846, -1.05649215, -0.85244857,\n",
       "        0.04218924,  1.52640564, -0.18636219, -0.80221714,  0.83545349])"
      ]
     },
     "execution_count": 28,
     "metadata": {},
     "output_type": "execute_result"
    }
   ],
   "source": [
    "# Mise à jour des poids et du biais\n",
    "a = 0.5\n",
    "\n",
    "weights = np.array(weights) + a *(y[0] - activation(z)) * X[0]\n",
    "weights"
   ]
  },
  {
   "cell_type": "code",
   "execution_count": 29,
   "metadata": {},
   "outputs": [],
   "source": [
    "import random\n",
    "import numpy as np\n",
    "\n",
    "# Initialisation des poids et du biais\n",
    "# num_inputs est la dimension des données d'entrée (nombre de features de X)\n",
    "# Les poids sont initialisés aléatoirement entre -1 et 1\n",
    "# Le biais est initialisé aléatoirement entre -1 et 1\n",
    "\n",
    "class Perceptron:\n",
    "    def __init__(self, num_inputs):\n",
    "        self.weights = [random.uniform(-1,1) for _ in range(num_inputs)]\n",
    "        self.bias = random.uniform(-1,1)\n",
    "\n",
    "    def pred(self, inputs):\n",
    "        z = (np.array(self.weights) * np.array(inputs)).sum() + self.bias\n",
    "        return 1 if z > 0 else 0\n",
    "\n",
    "    def update(self, inputs, label, learning_rate):\n",
    "        prediction = self.pred(inputs)\n",
    "        error = label - prediction\n",
    "\n",
    "        self.weights = np.array(self.weights) + np.array(inputs) * error * learning_rate\n",
    "        self.bias += error * learning_rate\n",
    "\n",
    "    def fit(self, X, y, epoch, alpha=0.1):\n",
    "        accuracy = []\n",
    "        for _ in range(epoch):\n",
    "            for data in zip(X,y):\n",
    "                self.update(data[0], data[1], alpha)\n",
    "            y_pred = self.predict(X)\n",
    "            accuracy.append(accuracy_score(y, y_pred))\n",
    "        return accuracy\n",
    "\n",
    "\n",
    "    def predict(self, X):\n",
    "        return np.array([self.pred(x) for x in X])"
   ]
  },
  {
   "cell_type": "code",
   "execution_count": 30,
   "metadata": {},
   "outputs": [
    {
     "data": {
      "text/plain": [
       "0.8553638409602401"
      ]
     },
     "execution_count": 30,
     "metadata": {},
     "output_type": "execute_result"
    }
   ],
   "source": [
    "# Instanciation du perceptron\n",
    "perceptron = Perceptron(num_inputs=X.shape[1])\n",
    "\n",
    "# Entraînement du perceptron\n",
    "acc = perceptron.fit(X, y, 100, 0.1)\n",
    "\n",
    "# Prédiction\n",
    "y_pred = perceptron.predict(X)\n",
    "\n",
    "# Calcul de l'accuracy\n",
    "accuracy_score(y, y_pred)"
   ]
  },
  {
   "cell_type": "code",
   "execution_count": null,
   "metadata": {},
   "outputs": [],
   "source": []
  },
  {
   "cell_type": "code",
   "execution_count": null,
   "metadata": {},
   "outputs": [],
   "source": []
  },
  {
   "cell_type": "markdown",
   "metadata": {},
   "source": [
    "## 5. Deep Learning : Multi-Layer Perceptron (MLP)\n",
    "\n",
    "## 5.1 - **Réseaux de neurones artificiels**\n",
    "Un Multi Layer Perceptron (MLP) est un réseau de neurones artificiels composé de plusieurs couches de perceptron, où chaque neurone d'une couche est connecté à tous les neurones de la couche suivante. Les couches intermédiaires entre la couche d'entrée et la couche de sortie sont appelées couches cachées.\n",
    "\n",
    "Chaque neurone d'un MLP utilise une fonction d'activation non linéaire pour transformer la somme pondérée des signaux d'entrée en une sortie. Les poids et les biais de chaque neurone sont appris par rétropropagation (backpropagation) lors de l'entraînement du réseau à partir d'un ensemble de données d'entraînement.\n",
    "\n",
    "<img src='https://scikit-learn.org/stable/_images/multilayerperceptron_network.png'>\n",
    "\n",
    "Un réseau de neuronnes est  caractérisé par :\n",
    "- le nombre de couches qu'il contient,\n",
    "- le nombre de neurones par couche,\n",
    "- la fonction d'activation utilisée par chaque neurone.\n",
    "\n",
    "<img src='https://upload.wikimedia.org/wikipedia/commons/thumb/a/ab/TensorFlow_logo.svg/1200px-TensorFlow_logo.svg.png'>\n",
    "\n",
    "[TensorFlow](https://www.tensorflow.org/) est une bibliothèque open source de calcul numérique et de machine learning, développée par Google Brain Team. Elle permet de créer et d'entraîner des de deeplearning  pour diverses tâches telles que la classification, la reconnaissance d'image, la détection d'objet, la segmentation d'image, la génération de texte et bien plus encore.\n",
    "\n",
    "Les modèles de deeplearning sont créés en assemblant des couches de neurones et en ajustant les poids de ces neurones lors de l'entraînement pour améliorer les performances du modèle. TensorFlow est utilisé dans de nombreuses industries et domaines, tels que la reconnaissance vocale, la robotique, la vision par ordinateur, la biologie, la finance, etc."
   ]
  },
  {
   "cell_type": "code",
   "execution_count": 31,
   "metadata": {},
   "outputs": [
    {
     "name": "stdout",
     "output_type": "stream",
     "text": [
      "Metal device set to: Apple M1 Max\n",
      "\n",
      "systemMemory: 32.00 GB\n",
      "maxCacheSize: 10.67 GB\n",
      "\n"
     ]
    },
    {
     "name": "stderr",
     "output_type": "stream",
     "text": [
      "2023-12-05 17:09:22.949655: I tensorflow/core/common_runtime/pluggable_device/pluggable_device_factory.cc:305] Could not identify NUMA node of platform GPU ID 0, defaulting to 0. Your kernel may not have been built with NUMA support.\n",
      "2023-12-05 17:09:22.949780: I tensorflow/core/common_runtime/pluggable_device/pluggable_device_factory.cc:271] Created TensorFlow device (/job:localhost/replica:0/task:0/device:GPU:0 with 0 MB memory) -> physical PluggableDevice (device: 0, name: METAL, pci bus id: <undefined>)\n"
     ]
    }
   ],
   "source": [
    "from tensorflow.keras.layers import Dense\n",
    "from tensorflow.keras.models import Sequential\n",
    "\n",
    "\n",
    "def build_model(input_dim, output_dim=1):\n",
    "\n",
    "    # On crée un modèle séquentiel\n",
    "    model = Sequential()\n",
    "\n",
    "    # Première couche cachée de 30 neurones\n",
    "    model.add(Dense(30, input_dim=input_dim))\n",
    "\n",
    "    # Deuxième couche cachée de 10 neurones\n",
    "    model.add(Dense(10))\n",
    "\n",
    "    # Couche de sortie de 1 neurone\n",
    "    model.add(Dense(output_dim))\n",
    "\n",
    "    return model\n",
    "\n",
    "\n",
    "model = build_model(25, 1)"
   ]
  },
  {
   "cell_type": "code",
   "execution_count": 32,
   "metadata": {},
   "outputs": [
    {
     "name": "stdout",
     "output_type": "stream",
     "text": [
      "Model: \"sequential\"\n",
      "_________________________________________________________________\n",
      " Layer (type)                Output Shape              Param #   \n",
      "=================================================================\n",
      " dense (Dense)               (None, 30)                780       \n",
      "                                                                 \n",
      " dense_1 (Dense)             (None, 10)                310       \n",
      "                                                                 \n",
      " dense_2 (Dense)             (None, 1)                 11        \n",
      "                                                                 \n",
      "=================================================================\n",
      "Total params: 1,101\n",
      "Trainable params: 1,101\n",
      "Non-trainable params: 0\n",
      "_________________________________________________________________\n"
     ]
    }
   ],
   "source": [
    "# Architecture du modèle\n",
    "model.summary()"
   ]
  },
  {
   "cell_type": "code",
   "execution_count": 33,
   "metadata": {},
   "outputs": [
    {
     "data": {
      "text/plain": [
       "[<tf.Variable 'dense/kernel:0' shape=(25, 30) dtype=float32, numpy=\n",
       " array([[-2.13875294e-01, -1.95870489e-01, -2.79060602e-02,\n",
       "          6.27526641e-02,  2.22835600e-01,  6.74327612e-02,\n",
       "         -2.51622707e-01, -2.70053059e-01,  5.16217947e-03,\n",
       "          1.45935386e-01, -4.85885143e-02, -7.25021958e-02,\n",
       "         -1.36118472e-01, -2.72331119e-01,  1.58994585e-01,\n",
       "          1.51931345e-02,  1.47587359e-01,  3.26281130e-01,\n",
       "         -2.78796881e-01,  3.10244143e-01, -1.33451149e-01,\n",
       "         -6.23180568e-02,  2.03488708e-01,  1.62683398e-01,\n",
       "          6.59951568e-02,  1.30458683e-01,  7.37144053e-02,\n",
       "         -2.85304070e-01, -2.81399161e-01, -3.47201228e-02],\n",
       "        [ 1.69521332e-01, -3.03849876e-01,  7.75687695e-02,\n",
       "         -2.71110535e-02, -2.59499699e-01, -1.32582575e-01,\n",
       "          2.21264124e-01,  8.11576545e-02, -1.27862394e-01,\n",
       "         -1.84701398e-01, -2.34044552e-01, -2.46031195e-01,\n",
       "         -1.57104492e-01,  2.12125301e-01,  3.16691697e-02,\n",
       "          1.98860824e-01, -2.72483438e-01, -1.29846111e-01,\n",
       "          9.88371670e-02,  2.85306275e-01, -1.94356889e-01,\n",
       "         -2.78374821e-01,  2.85603225e-01,  6.68712258e-02,\n",
       "          3.21412742e-01, -2.95375764e-01, -2.70300478e-01,\n",
       "         -1.58449411e-01, -3.06938887e-01,  2.58543789e-01],\n",
       "        [ 2.87054181e-02, -2.41448417e-01, -3.22986126e-01,\n",
       "          9.83278453e-02,  3.24177623e-01,  2.35174119e-01,\n",
       "         -3.14647198e-01,  8.78091156e-02, -8.96436125e-02,\n",
       "         -2.75322795e-03,  1.88136637e-01,  1.88957036e-01,\n",
       "         -1.70469671e-01, -4.79364097e-02,  5.34136593e-02,\n",
       "          2.68314719e-01, -6.23213649e-02, -2.65418649e-01,\n",
       "         -9.85140800e-02, -2.29629517e-01, -2.73024499e-01,\n",
       "          2.27816343e-01, -3.22826803e-01,  2.63538241e-01,\n",
       "          2.90823221e-01, -3.27176809e-01,  1.97589695e-02,\n",
       "         -1.12143621e-01, -2.88752019e-02,  2.24147558e-01],\n",
       "        [ 3.10410082e-01,  6.08781874e-02, -2.04314142e-01,\n",
       "          3.74366045e-02, -5.12546599e-02, -3.11509043e-01,\n",
       "         -3.02653402e-01,  3.79039645e-02,  2.80621171e-01,\n",
       "         -1.39995664e-01, -2.38760471e-01, -9.60531533e-02,\n",
       "         -2.77940750e-01,  1.05385542e-01, -1.88872397e-01,\n",
       "         -1.68606445e-01,  1.44542038e-01, -2.36514449e-01,\n",
       "         -1.77009776e-01,  1.86379969e-01, -1.83231339e-01,\n",
       "          7.74940550e-02, -3.17051023e-01, -2.09465772e-01,\n",
       "         -3.21854949e-02,  3.26018333e-02,  1.91895723e-01,\n",
       "         -3.01409423e-01,  1.73628330e-04, -7.78880119e-02],\n",
       "        [ 2.36129045e-01, -2.96721846e-01, -2.64080316e-01,\n",
       "          2.05652475e-01, -2.48121142e-01, -5.01234531e-02,\n",
       "         -3.14675480e-01, -1.10557958e-01, -4.46385741e-02,\n",
       "          1.20548934e-01, -3.00220579e-01,  1.67672038e-01,\n",
       "          2.08107769e-01,  2.18774915e-01,  1.24683142e-01,\n",
       "          1.28845721e-01,  8.35626721e-02, -2.86165953e-01,\n",
       "          2.83168137e-01,  1.40928566e-01, -1.71020627e-02,\n",
       "         -1.40957013e-01, -1.64790750e-02,  2.01897919e-02,\n",
       "          2.59839654e-01,  2.91725516e-01, -5.46217263e-02,\n",
       "         -4.85637188e-02,  2.91765809e-01,  5.89253306e-02],\n",
       "        [-9.21952575e-02, -1.91975176e-01,  5.72792888e-02,\n",
       "          5.41668832e-02, -1.91441908e-01,  1.99288011e-01,\n",
       "          4.09660339e-02,  3.59470248e-02, -1.56618074e-01,\n",
       "         -1.83901951e-01, -2.69090682e-01,  2.32154191e-01,\n",
       "          8.89551640e-03, -2.84789503e-02, -1.67519808e-01,\n",
       "          1.15901589e-01, -1.87113658e-01,  6.53114021e-02,\n",
       "          3.21968257e-01, -2.63464212e-01,  1.04902357e-01,\n",
       "         -3.16034555e-01,  1.83511138e-01, -1.24409497e-01,\n",
       "         -1.92355767e-01,  3.27495873e-01, -2.34716892e-01,\n",
       "          3.55848670e-03, -1.33705899e-01, -3.86297703e-02],\n",
       "        [ 2.31929719e-02,  1.11330539e-01, -2.06508666e-01,\n",
       "         -4.78855371e-02, -2.85082012e-01,  4.47281897e-02,\n",
       "          3.68401706e-02,  1.70092583e-01,  3.23911965e-01,\n",
       "         -1.74554214e-01,  3.46473753e-02, -1.80962488e-01,\n",
       "         -1.47838712e-01,  6.70139790e-02, -3.08435798e-01,\n",
       "          1.13746911e-01,  2.41756737e-01, -2.22268462e-01,\n",
       "          1.60244226e-01, -1.99849889e-01,  2.48114228e-01,\n",
       "         -3.13967526e-01,  1.08025968e-02,  8.52721334e-02,\n",
       "         -6.85568750e-02, -1.54753417e-01,  1.64258420e-01,\n",
       "         -2.67162949e-01,  1.71509981e-01, -2.02817321e-01],\n",
       "        [-4.27137315e-02,  4.85512614e-02,  1.44733012e-01,\n",
       "         -2.94156283e-01,  1.06221914e-01,  3.94436121e-02,\n",
       "         -1.03010058e-01,  6.94461763e-02, -1.29105747e-02,\n",
       "         -2.85455346e-01, -1.61037982e-01, -1.23610288e-01,\n",
       "          2.61804521e-01,  3.12691271e-01,  2.51364172e-01,\n",
       "          1.31995976e-02, -8.54050517e-02, -7.54679441e-02,\n",
       "          1.82060361e-01, -4.25313711e-02, -2.85579294e-01,\n",
       "          8.67198110e-02,  5.79693317e-02,  2.34112203e-01,\n",
       "          3.01716685e-01, -9.98623073e-02, -1.71637103e-01,\n",
       "          1.17340446e-01,  2.05467224e-01,  2.64519155e-01],\n",
       "        [-7.88021982e-02,  3.00585866e-01,  2.28703260e-01,\n",
       "         -2.22411782e-01,  1.13999039e-01,  7.66475201e-02,\n",
       "         -1.45733804e-01,  2.99995661e-01, -1.73275769e-02,\n",
       "         -1.45265490e-01,  1.36345178e-01,  1.03159040e-01,\n",
       "         -3.07135135e-01,  2.12982297e-01, -1.78730950e-01,\n",
       "         -3.14883292e-01,  6.72295690e-03,  2.46350527e-01,\n",
       "          2.11788118e-01, -5.20160496e-02, -1.34733781e-01,\n",
       "          1.55694127e-01, -1.92109913e-01,  1.60294533e-01,\n",
       "          7.80121088e-02,  2.50357628e-01,  6.38849735e-02,\n",
       "         -1.43592834e-01,  2.32498109e-01, -1.71251088e-01],\n",
       "        [-2.58627176e-01,  1.70509279e-01,  3.24981630e-01,\n",
       "          3.00147414e-01,  2.68818855e-01, -3.25618863e-01,\n",
       "          1.71047151e-02,  2.60741532e-01,  9.85338390e-02,\n",
       "          1.69219732e-01, -2.28621230e-01,  1.05818331e-01,\n",
       "          1.24763370e-01, -2.85099745e-02, -1.58559412e-01,\n",
       "          1.81426704e-01, -4.07072604e-02,  1.90269589e-01,\n",
       "          2.18382716e-01, -1.14385486e-02,  2.14062333e-01,\n",
       "          2.13719904e-01, -2.12269560e-01, -1.47543892e-01,\n",
       "          3.17256570e-01, -7.41773844e-03, -2.11599186e-01,\n",
       "         -1.84049219e-01, -1.73408285e-01,  2.20508397e-01],\n",
       "        [-4.76191342e-02,  2.85455525e-01,  8.61319602e-02,\n",
       "          3.25113893e-01,  1.70535207e-01, -2.64940858e-01,\n",
       "          3.22622240e-01, -2.14227676e-01,  9.90579724e-02,\n",
       "          1.33725196e-01,  5.78048229e-02, -1.45796806e-01,\n",
       "          2.32926488e-01, -3.08230579e-01, -8.17696899e-02,\n",
       "         -2.29498550e-01,  2.77266145e-01,  9.60679650e-02,\n",
       "         -2.97539532e-02,  3.28768671e-01, -3.11085224e-01,\n",
       "          1.04244351e-01, -8.94914716e-02,  1.78779304e-01,\n",
       "          1.55676097e-01, -8.14380050e-02, -1.09100044e-01,\n",
       "         -3.11403573e-02,  2.28116214e-02, -9.17130858e-02],\n",
       "        [-1.61986172e-01,  1.18490249e-01, -2.78498679e-01,\n",
       "         -1.49130002e-01, -1.16297126e-01,  1.46449685e-01,\n",
       "          3.18230987e-02,  2.82957673e-01,  1.70064270e-01,\n",
       "          3.01193655e-01, -2.69722879e-01,  7.57486820e-02,\n",
       "          1.11428589e-01, -3.18009138e-01, -8.42090398e-02,\n",
       "         -2.64568925e-02,  3.13808858e-01,  1.84545457e-01,\n",
       "          2.06921399e-02, -6.89057410e-02, -5.84688783e-03,\n",
       "          3.08502913e-01, -5.36681712e-02, -3.09883386e-01,\n",
       "         -3.02183986e-01,  8.11332464e-03, -3.18342239e-01,\n",
       "         -2.22338170e-01, -9.90647525e-02,  2.45854378e-01],\n",
       "        [ 3.04915309e-01,  2.25545108e-01, -1.97349355e-01,\n",
       "          2.49303877e-02, -1.10889807e-01, -3.07625651e-01,\n",
       "         -2.04276338e-01,  3.27537060e-01, -1.58093154e-01,\n",
       "         -1.51244372e-01, -5.47925234e-02,  2.67707169e-01,\n",
       "         -3.11276108e-01, -4.07791734e-02, -6.56106472e-02,\n",
       "         -1.33714795e-01,  2.33031750e-01,  2.51874626e-01,\n",
       "         -2.82886386e-01,  1.64655477e-01, -6.97565973e-02,\n",
       "         -2.22487301e-01,  1.53979182e-01,  1.49463594e-01,\n",
       "          2.27920294e-01,  1.18578970e-02,  1.43797725e-01,\n",
       "          2.71446824e-01, -1.30269855e-01,  7.19760656e-02],\n",
       "        [ 2.79831946e-01,  1.28692716e-01,  3.06783974e-01,\n",
       "         -1.47332445e-01,  1.42997980e-01, -7.83243477e-02,\n",
       "         -1.26543060e-01, -2.13517934e-01, -3.24684054e-01,\n",
       "          1.40888661e-01, -1.66261986e-01, -2.35923603e-01,\n",
       "          9.81500149e-02, -7.94154704e-02, -1.22630119e-01,\n",
       "         -1.71350703e-01, -2.03913003e-01, -2.61460572e-01,\n",
       "          4.29118872e-02, -4.95192111e-02,  2.39704967e-01,\n",
       "          5.11665344e-02,  9.87640917e-02, -1.08791515e-01,\n",
       "         -2.52130687e-01, -2.25305438e-01,  2.92710245e-01,\n",
       "         -2.73462653e-01,  2.70486474e-01, -2.35635236e-01],\n",
       "        [-9.50314105e-02,  1.55442446e-01,  2.95406044e-01,\n",
       "          4.29981053e-02,  9.36500132e-02,  1.87221527e-01,\n",
       "         -4.48755920e-02,  2.88969040e-01, -2.43816257e-01,\n",
       "         -2.80064166e-01,  3.13229263e-01, -1.34769976e-02,\n",
       "         -3.05662781e-01,  2.62686908e-01,  3.01441550e-01,\n",
       "          2.24001229e-01, -8.94987881e-02, -9.58702266e-02,\n",
       "          3.13622057e-01, -2.64622033e-01,  3.16264212e-01,\n",
       "         -1.40413940e-02,  7.86820054e-02,  1.58266872e-01,\n",
       "          2.09678710e-01, -1.97239816e-01,  2.19833553e-01,\n",
       "         -4.36627865e-03,  3.08691263e-01,  1.12032980e-01],\n",
       "        [-2.00222433e-02, -2.60564685e-02, -2.49305248e-01,\n",
       "          1.33072942e-01, -1.73675075e-01, -1.17401168e-01,\n",
       "         -1.10081151e-01,  1.30649894e-01,  4.87331748e-02,\n",
       "         -1.62196666e-01, -3.43519747e-02,  1.40973538e-01,\n",
       "         -3.04727435e-01, -2.42423937e-01,  4.56730723e-02,\n",
       "          2.07450271e-01, -1.26116574e-01, -2.11610764e-01,\n",
       "         -7.28128552e-02,  2.81209409e-01, -1.51499271e-01,\n",
       "         -1.51937500e-01, -1.00144997e-01,  1.92190945e-01,\n",
       "          1.92335546e-01,  1.71441495e-01,  2.43624747e-01,\n",
       "         -2.98038423e-01,  2.82047987e-01,  1.85304582e-01],\n",
       "        [ 3.01451564e-01,  2.76127994e-01,  1.37807757e-01,\n",
       "         -2.41525516e-01,  1.84158444e-01, -1.88154459e-01,\n",
       "          2.35724688e-01,  2.78530478e-01, -1.61388963e-01,\n",
       "          2.05134749e-01, -1.68237507e-01, -1.73522383e-01,\n",
       "          1.76069379e-01,  1.48800999e-01, -1.86545104e-01,\n",
       "         -9.28460211e-02, -8.52551162e-02,  1.86364055e-01,\n",
       "          3.32952738e-02,  1.94544494e-02,  3.28905284e-01,\n",
       "         -2.81672657e-01, -3.01003098e-01,  2.54525840e-01,\n",
       "          7.33779371e-02, -1.76452950e-01, -1.36081308e-01,\n",
       "          1.53716385e-01, -1.32542968e-01, -1.39809579e-01],\n",
       "        [ 5.67191839e-03, -2.82103807e-01,  1.61104769e-01,\n",
       "         -1.24811813e-01, -3.13792080e-01, -3.03917229e-02,\n",
       "         -2.31030494e-01,  1.39745951e-01,  7.42713213e-02,\n",
       "          1.20606571e-01, -7.62951076e-02,  7.43439198e-02,\n",
       "         -1.02239445e-01, -2.16069221e-02, -1.96933180e-01,\n",
       "         -1.20537266e-01,  4.82562184e-03, -1.09895706e-01,\n",
       "         -3.29853177e-01,  1.15083724e-01, -1.28192306e-02,\n",
       "          3.15159917e-01, -2.81429470e-01, -1.07485414e-01,\n",
       "         -3.23851794e-01, -8.79799277e-02,  3.14963162e-01,\n",
       "         -1.00542277e-01, -7.29889870e-02,  2.51475573e-01],\n",
       "        [-3.67120504e-02, -2.63171822e-01,  7.55652189e-02,\n",
       "          1.13945663e-01,  2.06017017e-01, -2.17339933e-01,\n",
       "          5.33298850e-02, -1.70447230e-02, -6.68223202e-02,\n",
       "         -4.18156385e-04, -1.32488787e-01, -1.11832798e-01,\n",
       "         -2.71731615e-01, -2.24255413e-01, -1.14509180e-01,\n",
       "          3.43371928e-02, -2.20409885e-01, -3.23911399e-01,\n",
       "         -2.51709402e-01,  2.44664669e-01, -1.20044783e-01,\n",
       "          1.21194720e-01,  1.52853012e-01, -1.46986991e-01,\n",
       "          8.78577828e-02,  8.06480944e-02, -1.05582327e-01,\n",
       "          2.55048215e-01, -4.06140387e-02, -3.23261261e-01],\n",
       "        [ 2.94733047e-03,  2.69388437e-01, -1.83139056e-01,\n",
       "          1.70939982e-01,  1.33884430e-01,  1.66654527e-01,\n",
       "         -1.92995906e-01,  2.80313015e-01, -2.40875542e-01,\n",
       "         -6.58941269e-02, -2.80538768e-01, -3.29712063e-01,\n",
       "          1.10457391e-01, -1.03783906e-02, -3.00253421e-01,\n",
       "          3.32186520e-02, -3.07863235e-01, -1.80276290e-01,\n",
       "         -1.57923296e-01, -5.86559176e-02,  5.23693264e-02,\n",
       "         -1.05733052e-01,  2.70055473e-01, -2.95693010e-01,\n",
       "         -4.45642173e-02, -2.23853573e-01, -1.54286131e-01,\n",
       "         -1.12658307e-01,  1.65371358e-01,  1.90152586e-01],\n",
       "        [-3.08823228e-01, -1.09684899e-01, -1.00690722e-02,\n",
       "          2.69069731e-01, -2.76810974e-01, -2.83103883e-01,\n",
       "          1.76088750e-01, -9.05905366e-02,  2.19494581e-01,\n",
       "          2.32855082e-02, -1.59387529e-01, -2.04564869e-01,\n",
       "         -2.15876877e-01, -1.70225203e-02, -2.78842717e-01,\n",
       "          3.64226401e-02,  1.63994223e-01,  2.31349409e-01,\n",
       "          1.79541171e-01, -1.64329603e-01, -1.93371207e-01,\n",
       "          2.55740464e-01, -1.01761684e-01, -4.99410033e-02,\n",
       "         -2.27111965e-01, -7.24967420e-02,  2.76575685e-01,\n",
       "          2.98277557e-01, -2.90528476e-01, -1.36377782e-01],\n",
       "        [-3.16352695e-01, -2.63512135e-03,  2.94044316e-01,\n",
       "         -1.69062391e-01, -1.44539922e-01, -2.77250141e-01,\n",
       "          1.70078516e-01, -2.45688081e-01,  2.99349666e-01,\n",
       "          2.14490831e-01, -4.19795811e-02, -8.21827948e-02,\n",
       "          2.38105953e-02,  8.59209895e-03,  5.83286583e-02,\n",
       "          5.60297966e-02,  2.89496779e-01,  2.86370158e-01,\n",
       "          9.97288227e-02,  2.03520536e-01,  1.10965014e-01,\n",
       "          1.81703746e-01,  1.16392404e-01,  2.49583364e-01,\n",
       "         -5.38610220e-02,  5.81839085e-02, -8.11013579e-02,\n",
       "          3.18145275e-01,  1.52930737e-01,  2.44208038e-01],\n",
       "        [-1.26184210e-01, -7.18119740e-02,  9.48813856e-02,\n",
       "         -1.97051138e-01,  2.03205645e-01,  8.09949636e-02,\n",
       "         -1.34135932e-01,  1.66308194e-01, -5.23671210e-02,\n",
       "          2.01586366e-01, -2.40433604e-01, -2.67407954e-01,\n",
       "         -1.70340613e-01, -3.14810932e-01,  1.64942890e-01,\n",
       "          2.15898752e-01, -2.14271232e-01, -1.26910210e-03,\n",
       "         -1.10310465e-01,  2.61340857e-01,  3.00512731e-01,\n",
       "         -2.23645598e-01,  6.74295425e-03, -3.14068645e-01,\n",
       "         -1.64707363e-01,  2.37574637e-01,  2.47885346e-01,\n",
       "          3.23721170e-02,  3.66594493e-02, -3.94186676e-02],\n",
       "        [ 6.91479445e-03, -2.26601064e-01, -2.87483871e-01,\n",
       "         -3.23971480e-01,  1.50331229e-01, -3.17777544e-01,\n",
       "         -2.67606795e-01,  2.29954898e-01,  2.16264069e-01,\n",
       "         -3.22313786e-01,  1.67951494e-01, -1.86680391e-01,\n",
       "          1.33951038e-01, -2.59900749e-01, -1.71170756e-01,\n",
       "          4.84853983e-03,  2.54666924e-01, -1.21924624e-01,\n",
       "          1.81417227e-01,  1.45544589e-01, -4.42042053e-02,\n",
       "          8.12835991e-02,  2.74437606e-01,  2.52867699e-01,\n",
       "         -2.37606674e-01,  2.15297878e-01,  1.42428398e-01,\n",
       "          3.84350121e-02, -2.71735013e-01, -2.11412951e-01],\n",
       "        [-3.00493449e-01,  1.60172224e-01, -1.89054772e-01,\n",
       "         -1.88476458e-01,  1.04815960e-01, -5.88831306e-02,\n",
       "          1.44883424e-01, -1.01294875e-01,  1.02984071e-01,\n",
       "         -3.03257316e-01, -3.17167729e-01, -2.09593654e-01,\n",
       "         -9.23544765e-02,  2.65575588e-01, -3.22867632e-02,\n",
       "          1.31456554e-01,  3.68011892e-02,  3.00540686e-01,\n",
       "         -1.11138642e-01,  1.26134366e-01, -1.10756874e-01,\n",
       "         -1.55668214e-01, -2.07059026e-01,  7.53974020e-02,\n",
       "          3.68059874e-02,  1.10967070e-01, -1.96350366e-01,\n",
       "          2.48345852e-01,  2.74061024e-01, -2.41237223e-01]], dtype=float32)>,\n",
       " <tf.Variable 'dense/bias:0' shape=(30,) dtype=float32, numpy=\n",
       " array([0., 0., 0., 0., 0., 0., 0., 0., 0., 0., 0., 0., 0., 0., 0., 0., 0.,\n",
       "        0., 0., 0., 0., 0., 0., 0., 0., 0., 0., 0., 0., 0.], dtype=float32)>,\n",
       " <tf.Variable 'dense_1/kernel:0' shape=(30, 10) dtype=float32, numpy=\n",
       " array([[-0.14578454,  0.25278288,  0.14325821, -0.3821015 ,  0.22269279,\n",
       "         -0.0847013 , -0.1606277 ,  0.38123268,  0.35484606,  0.04355803],\n",
       "        [-0.25975096, -0.28314832, -0.2848203 ,  0.02696359,  0.05492026,\n",
       "          0.00751752, -0.01353729, -0.26661205, -0.1004476 , -0.00611416],\n",
       "        [ 0.05191037, -0.22640796, -0.24613675,  0.38639778, -0.1010803 ,\n",
       "         -0.09351045,  0.21093172,  0.14106756, -0.07797992,  0.22004074],\n",
       "        [ 0.13849908,  0.18122381,  0.04031342, -0.30249152,  0.11525863,\n",
       "          0.37883812,  0.24815398,  0.15856272,  0.35465878, -0.36950257],\n",
       "        [ 0.3377139 ,  0.11721694, -0.14203326, -0.38643423,  0.32627493,\n",
       "         -0.09118506,  0.21104687,  0.3215676 ,  0.05818251,  0.22722173],\n",
       "        [-0.05501473, -0.23920348,  0.18997031, -0.06381121,  0.24581909,\n",
       "         -0.23147184,  0.11287093, -0.259612  , -0.03995967,  0.08194366],\n",
       "        [ 0.24486166, -0.06741679, -0.18334828, -0.23944652,  0.20386308,\n",
       "          0.2587341 , -0.00427788,  0.14456445, -0.15471873, -0.18025316],\n",
       "        [ 0.25863147,  0.10060892, -0.27000034, -0.02289504,  0.15029114,\n",
       "          0.3567723 ,  0.33937812,  0.02323225, -0.22342347, -0.08205551],\n",
       "        [-0.25982484, -0.05941421,  0.13423318, -0.16622196, -0.06439233,\n",
       "          0.19152474,  0.30850083,  0.34991503, -0.31240356,  0.34342408],\n",
       "        [ 0.14908576,  0.37722462,  0.38149595, -0.22926696, -0.18281345,\n",
       "          0.22775322,  0.17021477, -0.01668715, -0.22179773,  0.22008455],\n",
       "        [ 0.33468068,  0.04847249, -0.01874235, -0.15070835,  0.03004244,\n",
       "         -0.3379129 ,  0.10452253,  0.11121112, -0.12222338,  0.26801014],\n",
       "        [-0.22029686, -0.30403966, -0.2836839 ,  0.35335487,  0.11484754,\n",
       "          0.04256824, -0.36896053,  0.18655759, -0.11155453, -0.15558228],\n",
       "        [ 0.1472218 , -0.22378904, -0.38043755, -0.05846348, -0.322944  ,\n",
       "         -0.07155341,  0.0593338 , -0.00060058, -0.22600637, -0.3303048 ],\n",
       "        [ 0.29775858, -0.25495505, -0.05972689,  0.37232214, -0.04912192,\n",
       "         -0.2836668 , -0.29573607,  0.2855745 , -0.2429796 , -0.12509948],\n",
       "        [ 0.1679526 , -0.08041048, -0.38449445,  0.31435877,  0.23169148,\n",
       "          0.22723866,  0.335061  ,  0.33761203,  0.3128816 , -0.24317268],\n",
       "        [-0.0012137 ,  0.24290591,  0.26053113, -0.34440082, -0.36517647,\n",
       "          0.1282394 , -0.1420315 , -0.31736982, -0.15173848, -0.3855377 ],\n",
       "        [ 0.10319543, -0.2674924 ,  0.1361025 ,  0.31577557, -0.12575388,\n",
       "         -0.02669719, -0.15199961, -0.04828218,  0.19314158,  0.1825102 ],\n",
       "        [-0.03694212, -0.00743756, -0.24095248,  0.01570514,  0.28945756,\n",
       "         -0.02384427,  0.10792136,  0.11364239,  0.35822582, -0.06964272],\n",
       "        [ 0.28304344,  0.29922503, -0.17199352,  0.29882103, -0.2184485 ,\n",
       "         -0.16177362, -0.35667187,  0.24297482,  0.24321193,  0.01689151],\n",
       "        [-0.2904976 ,  0.03783771,  0.21346128,  0.09174344, -0.19414319,\n",
       "          0.3047406 , -0.16713594,  0.15749604, -0.18418847, -0.04398453],\n",
       "        [-0.02597609, -0.34096295, -0.07669899,  0.14943796, -0.28778714,\n",
       "         -0.21091983, -0.1263273 ,  0.02549493,  0.07082337, -0.21891463],\n",
       "        [ 0.02494782, -0.34741947, -0.3566908 , -0.06299892,  0.22416764,\n",
       "         -0.35333785,  0.36371833, -0.00684601, -0.1002174 , -0.12753427],\n",
       "        [-0.36591297,  0.38541996,  0.01683009, -0.22999966,  0.16905934,\n",
       "          0.26540452,  0.3518679 ,  0.3107077 ,  0.09945273, -0.32053235],\n",
       "        [ 0.05266699, -0.16449587, -0.24145018,  0.12848353,  0.09219313,\n",
       "         -0.35303998, -0.00289217,  0.11424226, -0.11172149, -0.13916494],\n",
       "        [-0.12622046,  0.18521088, -0.2593962 , -0.06540805,  0.2218309 ,\n",
       "         -0.03176299, -0.05665135,  0.04883373, -0.35542324,  0.19612902],\n",
       "        [-0.24542907, -0.14866404, -0.15117854, -0.32059237,  0.19566953,\n",
       "         -0.05875039,  0.22289056, -0.29735607, -0.11421362,  0.00556824],\n",
       "        [-0.2597398 ,  0.03182736,  0.05931365, -0.25682306,  0.23296797,\n",
       "         -0.12019396, -0.14921881,  0.36412   , -0.05161461,  0.01417229],\n",
       "        [ 0.27541345, -0.2171781 ,  0.20210153, -0.35040516,  0.01019627,\n",
       "          0.36669093, -0.12903276, -0.36288065, -0.16363655,  0.06766897],\n",
       "        [ 0.19883662,  0.15958035,  0.04560786, -0.07677102,  0.26162165,\n",
       "          0.20535916,  0.03121033,  0.01894319,  0.30715925, -0.05779698],\n",
       "        [ 0.14129889, -0.251747  , -0.06481817,  0.2572829 , -0.1443337 ,\n",
       "         -0.2701309 , -0.20441693,  0.04997578, -0.0414443 , -0.06950846]],\n",
       "       dtype=float32)>,\n",
       " <tf.Variable 'dense_1/bias:0' shape=(10,) dtype=float32, numpy=array([0., 0., 0., 0., 0., 0., 0., 0., 0., 0.], dtype=float32)>,\n",
       " <tf.Variable 'dense_2/kernel:0' shape=(10, 1) dtype=float32, numpy=\n",
       " array([[-0.2780002 ],\n",
       "        [ 0.48203796],\n",
       "        [ 0.2731827 ],\n",
       "        [-0.72863895],\n",
       "        [ 0.42465848],\n",
       "        [-0.16151899],\n",
       "        [-0.30630496],\n",
       "        [ 0.7269822 ],\n",
       "        [ 0.67666477],\n",
       "        [ 0.08306187]], dtype=float32)>,\n",
       " <tf.Variable 'dense_2/bias:0' shape=(1,) dtype=float32, numpy=array([0.], dtype=float32)>]"
      ]
     },
     "execution_count": 33,
     "metadata": {},
     "output_type": "execute_result"
    }
   ],
   "source": [
    "# Poids du réseau de neurones\n",
    "model.weights"
   ]
  },
  {
   "cell_type": "code",
   "execution_count": 34,
   "metadata": {},
   "outputs": [
    {
     "data": {
      "text/plain": [
       "<keras.layers.core.dense.Dense at 0x157e8a2c0>"
      ]
     },
     "execution_count": 34,
     "metadata": {},
     "output_type": "execute_result"
    }
   ],
   "source": [
    "# Première couche cachée\n",
    "\n",
    "model.layers[0]"
   ]
  },
  {
   "cell_type": "code",
   "execution_count": 35,
   "metadata": {},
   "outputs": [
    {
     "data": {
      "text/plain": [
       "True"
      ]
     },
     "execution_count": 35,
     "metadata": {},
     "output_type": "execute_result"
    }
   ],
   "source": [
    "# Mise à jour des poids de la première couche cachée True = trainable / False = non trainable\n",
    "model.layers[0].trainable"
   ]
  },
  {
   "cell_type": "code",
   "execution_count": null,
   "metadata": {},
   "outputs": [],
   "source": []
  },
  {
   "cell_type": "code",
   "execution_count": null,
   "metadata": {},
   "outputs": [],
   "source": []
  },
  {
   "cell_type": "code",
   "execution_count": null,
   "metadata": {},
   "outputs": [],
   "source": []
  },
  {
   "cell_type": "markdown",
   "metadata": {},
   "source": [
    "## 4.2 **Fonction d'activation**\n",
    "\n",
    "Une fonction d'activation est une fonction mathématique appliquée à la sortie d'un neurone dans un réseau de neurones artificiels. Elle introduit de la non-linéarité dans les sorties des neurones et permet ainsi au réseau de neurones de modéliser des relations complexes entre les entrées et les sorties.\n",
    "\n",
    "Il existe plusieurs types de fonctions d'activation, chacune avec ses propres avantages et inconvénients. Voici quelques exemples de fonctions d'activation couramment utilisées :\n",
    "\n",
    "- [Fonction sigmoïde](https://www.tensorflow.org/api_docs/python/tf/keras/activations/sigmoid) : une fonction en forme de S qui comprime les valeurs d'entrée entre 0 et 1, souvent utilisée pour la classification binaire ou la régression logistique.\n",
    "\n",
    "<img src='https://upload.wikimedia.org/wikipedia/commons/thumb/9/96/SigmoidFunction.svg/2560px-SigmoidFunction.svg.png' width=300>\n",
    "\n",
    "- [Fonction tangente hyperbolique](https://www.tensorflow.org/api_docs/python/tf/keras/activations/tanh) (tanh) : une fonction similaire à la fonction sigmoïde, mais qui comprime les valeurs d'entrée entre -1 et 1.\n",
    "\n",
    "<img src='https://upload.wikimedia.org/wikipedia/commons/thumb/8/87/Hyperbolic_Tangent.svg/langfr-2880px-Hyperbolic_Tangent.svg.png' width=400>\n",
    "\n",
    "- [Fonction ReLU](https://www.tensorflow.org/api_docs/python/tf/keras/activations/relu) (Rectified Linear Unit) : une fonction qui renvoie la valeur d'entrée si elle est positive, sinon renvoie 0. Cette fonction est souvent utilisée pour les réseaux de neurones profonds en raison de sa simplicité et de son efficacité.\n",
    "\n",
    "<img src='https://upload.wikimedia.org/wikipedia/commons/thumb/f/fe/Activation_rectified_linear.svg/2880px-Activation_rectified_linear.svg.png' width=400>\n",
    "\n",
    "- [Fonction softmax](https://www.tensorflow.org/api_docs/python/tf/keras/activations/softmax) : une fonction qui renvoie un vecteur de probabilités normalisées, souvent utilisée pour la classification multi-classes.\n",
    "\n",
    "<img src='https://miro.medium.com/v2/resize:fit:480/1*5nKWsukS6lPR-7fHtlK2Rg.png'>\n",
    "\n",
    "Le choix de la fonction d'activation dépend du type de problème de modélisation, du type de données en entrée et de la structure du réseau de neurones.\n",
    "\n",
    "D'autres fonctions d'activation existent et peuvent être utilisées dans TensorFlow. Vous pouvez consulter la [documentation TensorFlow](https://www.tensorflow.org/api_docs/python/tf/keras/activations) pour plus d'informations."
   ]
  },
  {
   "cell_type": "code",
   "execution_count": 36,
   "metadata": {},
   "outputs": [],
   "source": [
    "\n",
    "def build_model(input_dim, output_dim=1):\n",
    "\n",
    "    # On crée un modèle séquentiel\n",
    "    model = Sequential()\n",
    "\n",
    "    # Première couche cachée de 30 neurones\n",
    "    model.add(Dense(30, input_dim=input_dim, activation='relu'))\n",
    "\n",
    "    # Deuxième couche cachée de 10 neurones\n",
    "    model.add(Dense(10, activation='relu'))\n",
    "\n",
    "    # Couche de sortie de 1 neurone\n",
    "    model.add(Dense(output_dim, activation='sigmoid'))\n",
    "\n",
    "    return model\n",
    "\n",
    "\n",
    "model = build_model(25, 1)"
   ]
  },
  {
   "cell_type": "markdown",
   "metadata": {},
   "source": [
    "## 2. Fonction de coût et descente de gradient\n",
    "\n",
    "<img src='https://i.stack.imgur.com/VIeBL.png' width=700>\n",
    "\n",
    "### Fonction de coût\n",
    "Une fonction de perte (ou fonction d'erreur) est une mesure utilisée pour évaluer la qualité des prédictions d'un modèle de machine learning. Elle calcule l'écart entre les sorties prédites par le modèle et les sorties attendues (étiquettes de classe) pour un ensemble de données d'entraînement.\n",
    "\n",
    "L'objectif de l'apprentissage automatique est de minimiser cette fonction de perte, c'est-à-dire de trouver les paramètres du modèle qui minimisent l'écart entre les prédictions et les étiquettes de classe réelles.\n",
    "\n",
    "La fonction de perte est spécifique au type de tâche de classification ou de régression que le modèle tente de résoudre :\n",
    "\n",
    "\n",
    "**=> Pour de la classification binaire on retrouve :**\n",
    "- l'entropie croisée binaire, Elle mesure l'écart entre la probabilité prédite de la classe positive et la valeur réelle de la classe. \n",
    "        \n",
    "        loss = mean(- y_true * log(y_pred) - (1 - y_true) * log(1 - y_pred))\n",
    "\n",
    "        `loss='binary_crossentropy'`\n",
    "\n",
    "- la fonction de perte logistique, qui est similaire à l'entropie croisée binaire, mais qui est plus stable pour les valeurs de probabilité proches de 0 ou 1.\n",
    "\n",
    "        `loss='log_loss'`\n",
    "\n",
    "**=> Pour la classification multiclasse, on utilise souvent :**\n",
    "- l'entropie croisée catégorielle, elle mesure la distance entre la distribution de probabilité de sortie du modèle et la distribution de probabilité des étiquettes réelles. \n",
    "\n",
    "        loss = mean(- sum(y_true * log(y_pred)))\n",
    "\n",
    "        `loss='categorical_crossentropy'`\n",
    "\n",
    "**=> Pour de la regression, on retrouve :**\n",
    "- Erreur quadratique moyenne (Mean Squared Error), elle est calculée en prenant la moyenne des carrés des différences entre les valeurs de sortie prédites et les valeurs réelles. \n",
    "\n",
    "        loss = mean(mean((y_true - y_pred) ** 2))\n",
    "\n",
    "        `loss='mean_squared_error'`\n",
    "\n",
    "- Erreur absolue moyenne (Mean Absolute Error), elle mesure la moyenne des écarts absolus entre les valeurs prédites et les valeurs réelles. \n",
    "\n",
    "        loss = mean(mean(abs(y_true - y_pred)))\n",
    "\n",
    "        `loss='mean_absolute_error'`\n",
    "\n",
    "En plus de la fonction de perte, il existe également des fonctions de régularisation qui aident à prévenir le surapprentissage en ajoutant des pénalités à la fonction de perte pour les paramètres du modèle qui sont trop grands.\n",
    "\n",
    "D'autre fonction de pertes existent et peuvent être utilisées dans TensorFlow. Vous pouvez consulter la [documentation TensorFlow](https://www.tensorflow.org/api_docs/python/tf/keras/losses) pour plus d'informations.\n",
    "\n",
    "### [Descente de gradient](https://keras.io/api/optimizers/)\n",
    "\n",
    "La descente de gradient est une technique d'optimisation utilisée pour minimiser une fonction de perte en ajustant les paramètres du modèle par rapport aux gradients de la fonction de perte. Elle est utilisée dans de nombreux algorithmes d'apprentissage automatique pour trouver les paramètres optimaux d'un modèle.\n",
    "\n",
    "<img src='https://upload.wikimedia.org/wikipedia/commons/6/68/Gradient_ascent_%28surface%29.png'>\n",
    "\n",
    "La descente de gradient est un algorithme d'optimisation qui agit sur les poids et les biais (ou \"biais de neuronnes\") du réseau de neurones.\n",
    "\n",
    "L'objectif de la descente de gradient est de minimiser la fonction de perte du modèle en ajustant les poids et les biais du réseau de neurones. \n",
    "\n",
    "Pour ce faire, elle calcule le gradient de la fonction de perte par rapport à chaque poids et biais du réseau de neurones et utilise ce gradient pour ajuster progressivement les valeurs des poids et des biais dans la direction de la pente descendante de la fonction de perte.\n",
    "\n",
    "Voici les optimiseurs disponibles dans TensorFlow :\n",
    "- [`SGD`](https://keras.io/api/optimizers/sgd/) (Stochastic Gradient Descent) : l'algorithme de descente de gradient stochastique classique, qui met à jour les poids du modèle à chaque itération en fonction du gradient de la fonction de perte par rapport aux poids.\n",
    "\n",
    "- [`Adam`](https://keras.io/api/optimizers/adam/) (Adaptive Moment Estimation) : un algorithme d'optimisation adaptatif qui utilise des estimations adaptatives des moments du premier et du second ordre pour mettre à jour les poids du modèle.\n",
    "\n",
    "- [`RMSprop`](https://keras.io/api/optimizers/rmsprop/) (Root Mean Square Propagation) : un algorithme d'optimisation qui utilise une moyenne mobile du carré des gradients pour normaliser les mises à jour des poids.\n",
    "\n",
    "- [`Adagrad`](https://keras.io/api/optimizers/adagrad/) (Adaptive Gradient Algorithm) : un algorithme d'optimisation qui adapte les taux d'apprentissage de chaque poids du modèle en fonction de l'historique des mises à jour.\n",
    "\n",
    "- [`Adamax`](https://keras.io/api/optimizers/adamax/) (Adaptive Moment Estimation with infinity norm) : une variante d'Adam qui utilise la norme infinie pour normaliser les mises à jour des poids.\n",
    "\n",
    "- [`Nadam`](https://keras.io/api/optimizers/Nadam/) (Nesterov-accelerated Adaptive Moment Estimation) : une variante d'Adam qui incorpore la méthode Nesterov Accelerated Gradient pour accélérer la convergence."
   ]
  },
  {
   "cell_type": "code",
   "execution_count": 37,
   "metadata": {},
   "outputs": [
    {
     "name": "stderr",
     "output_type": "stream",
     "text": [
      "2023-12-05 17:09:23.150859: W tensorflow/core/platform/profile_utils/cpu_utils.cc:128] Failed to get CPU frequency: 0 Hz\n"
     ]
    },
    {
     "name": "stdout",
     "output_type": "stream",
     "text": [
      "Epoch 1/100\n"
     ]
    },
    {
     "name": "stderr",
     "output_type": "stream",
     "text": [
      "2023-12-05 17:09:23.335024: I tensorflow/core/grappler/optimizers/custom_graph_optimizer_registry.cc:113] Plugin optimizer for device_type GPU is enabled.\n",
      "loc(\"mps_select\"(\"(mpsFileLoc): /AppleInternal/Library/BuildRoots/495c257e-668e-11ee-93ce-926038f30c31/Library/Caches/com.apple.xbs/Sources/MetalPerformanceShadersGraph/mpsgraph/MetalPerformanceShadersGraph/Core/Files/MPSGraphUtilities.mm\":294:0)): error: 'anec.gain_offset_control' op result #0 must be 4D/5D memref of 16-bit float or 8-bit signed integer or 8-bit unsigned integer values, but got 'memref<1x64x1x1xi1>'\n",
      "loc(\"mps_select\"(\"(mpsFileLoc): /AppleInternal/Library/BuildRoots/495c257e-668e-11ee-93ce-926038f30c31/Library/Caches/com.apple.xbs/Sources/MetalPerformanceShadersGraph/mpsgraph/MetalPerformanceShadersGraph/Core/Files/MPSGraphUtilities.mm\":294:0)): error: 'anec.gain_offset_control' op result #0 must be 4D/5D memref of 16-bit float or 8-bit signed integer or 8-bit unsigned integer values, but got 'memref<1x64x1x1xi1>'\n",
      "loc(\"mps_select\"(\"(mpsFileLoc): /AppleInternal/Library/BuildRoots/495c257e-668e-11ee-93ce-926038f30c31/Library/Caches/com.apple.xbs/Sources/MetalPerformanceShadersGraph/mpsgraph/MetalPerformanceShadersGraph/Core/Files/MPSGraphUtilities.mm\":294:0)): error: 'anec.gain_offset_control' op result #0 must be 4D/5D memref of 16-bit float or 8-bit signed integer or 8-bit unsigned integer values, but got 'memref<1x64x1x1xi1>'\n"
     ]
    },
    {
     "name": "stdout",
     "output_type": "stream",
     "text": [
      " 1/84 [..............................] - ETA: 37s - loss: 0.8430 - accuracy: 0.3750"
     ]
    },
    {
     "name": "stderr",
     "output_type": "stream",
     "text": [
      "loc(\"mps_select\"(\"(mpsFileLoc): /AppleInternal/Library/BuildRoots/495c257e-668e-11ee-93ce-926038f30c31/Library/Caches/com.apple.xbs/Sources/MetalPerformanceShadersGraph/mpsgraph/MetalPerformanceShadersGraph/Core/Files/MPSGraphUtilities.mm\":294:0)): error: 'anec.gain_offset_control' op result #0 must be 4D/5D memref of 16-bit float or 8-bit signed integer or 8-bit unsigned integer values, but got 'memref<1x64x1x1xi1>'\n",
      "loc(\"mps_select\"(\"(mpsFileLoc): /AppleInternal/Library/BuildRoots/495c257e-668e-11ee-93ce-926038f30c31/Library/Caches/com.apple.xbs/Sources/MetalPerformanceShadersGraph/mpsgraph/MetalPerformanceShadersGraph/Core/Files/MPSGraphUtilities.mm\":294:0)): error: 'anec.gain_offset_control' op result #0 must be 4D/5D memref of 16-bit float or 8-bit signed integer or 8-bit unsigned integer values, but got 'memref<1x64x1x1xi1>'\n"
     ]
    },
    {
     "name": "stdout",
     "output_type": "stream",
     "text": [
      "84/84 [==============================] - ETA: 0s - loss: 0.7108 - accuracy: 0.5353"
     ]
    },
    {
     "name": "stderr",
     "output_type": "stream",
     "text": [
      "loc(\"mps_select\"(\"(mpsFileLoc): /AppleInternal/Library/BuildRoots/495c257e-668e-11ee-93ce-926038f30c31/Library/Caches/com.apple.xbs/Sources/MetalPerformanceShadersGraph/mpsgraph/MetalPerformanceShadersGraph/Core/Files/MPSGraphUtilities.mm\":294:0)): error: 'anec.gain_offset_control' op result #0 must be 4D/5D memref of 16-bit float or 8-bit signed integer or 8-bit unsigned integer values, but got 'memref<1x20x1x1xi1>'\n",
      "loc(\"mps_select\"(\"(mpsFileLoc): /AppleInternal/Library/BuildRoots/495c257e-668e-11ee-93ce-926038f30c31/Library/Caches/com.apple.xbs/Sources/MetalPerformanceShadersGraph/mpsgraph/MetalPerformanceShadersGraph/Core/Files/MPSGraphUtilities.mm\":294:0)): error: 'anec.gain_offset_control' op result #0 must be 4D/5D memref of 16-bit float or 8-bit signed integer or 8-bit unsigned integer values, but got 'memref<1x20x1x1xi1>'\n",
      "loc(\"mps_select\"(\"(mpsFileLoc): /AppleInternal/Library/BuildRoots/495c257e-668e-11ee-93ce-926038f30c31/Library/Caches/com.apple.xbs/Sources/MetalPerformanceShadersGraph/mpsgraph/MetalPerformanceShadersGraph/Core/Files/MPSGraphUtilities.mm\":294:0)): error: 'anec.gain_offset_control' op result #0 must be 4D/5D memref of 16-bit float or 8-bit signed integer or 8-bit unsigned integer values, but got 'memref<1x20x1x1xi1>'\n",
      "loc(\"mps_select\"(\"(mpsFileLoc): /AppleInternal/Library/BuildRoots/495c257e-668e-11ee-93ce-926038f30c31/Library/Caches/com.apple.xbs/Sources/MetalPerformanceShadersGraph/mpsgraph/MetalPerformanceShadersGraph/Core/Files/MPSGraphUtilities.mm\":294:0)): error: 'anec.gain_offset_control' op result #0 must be 4D/5D memref of 16-bit float or 8-bit signed integer or 8-bit unsigned integer values, but got 'memref<1x20x1x1xi1>'\n",
      "loc(\"mps_select\"(\"(mpsFileLoc): /AppleInternal/Library/BuildRoots/495c257e-668e-11ee-93ce-926038f30c31/Library/Caches/com.apple.xbs/Sources/MetalPerformanceShadersGraph/mpsgraph/MetalPerformanceShadersGraph/Core/Files/MPSGraphUtilities.mm\":294:0)): error: 'anec.gain_offset_control' op result #0 must be 4D/5D memref of 16-bit float or 8-bit signed integer or 8-bit unsigned integer values, but got 'memref<1x20x1x1xi1>'\n",
      "2023-12-05 17:09:24.470237: I tensorflow/core/grappler/optimizers/custom_graph_optimizer_registry.cc:113] Plugin optimizer for device_type GPU is enabled.\n"
     ]
    },
    {
     "name": "stdout",
     "output_type": "stream",
     "text": [
      "84/84 [==============================] - 2s 13ms/step - loss: 0.7108 - accuracy: 0.5353 - val_loss: 0.6158 - val_accuracy: 0.6752\n",
      "Epoch 2/100\n"
     ]
    },
    {
     "name": "stderr",
     "output_type": "stream",
     "text": [
      "loc(\"mps_select\"(\"(mpsFileLoc): /AppleInternal/Library/BuildRoots/495c257e-668e-11ee-93ce-926038f30c31/Library/Caches/com.apple.xbs/Sources/MetalPerformanceShadersGraph/mpsgraph/MetalPerformanceShadersGraph/Core/Files/MPSGraphUtilities.mm\":294:0)): error: 'anec.gain_offset_control' op result #0 must be 4D/5D memref of 16-bit float or 8-bit signed integer or 8-bit unsigned integer values, but got 'memref<1x64x1x1xi1>'\n",
      "loc(\"mps_select\"(\"(mpsFileLoc): /AppleInternal/Library/BuildRoots/495c257e-668e-11ee-93ce-926038f30c31/Library/Caches/com.apple.xbs/Sources/MetalPerformanceShadersGraph/mpsgraph/MetalPerformanceShadersGraph/Core/Files/MPSGraphUtilities.mm\":294:0)): error: 'anec.gain_offset_control' op result #0 must be 4D/5D memref of 16-bit float or 8-bit signed integer or 8-bit unsigned integer values, but got 'memref<1x64x1x1xi1>'\n",
      "loc(\"mps_select\"(\"(mpsFileLoc): /AppleInternal/Library/BuildRoots/495c257e-668e-11ee-93ce-926038f30c31/Library/Caches/com.apple.xbs/Sources/MetalPerformanceShadersGraph/mpsgraph/MetalPerformanceShadersGraph/Core/Files/MPSGraphUtilities.mm\":294:0)): error: 'anec.gain_offset_control' op result #0 must be 4D/5D memref of 16-bit float or 8-bit signed integer or 8-bit unsigned integer values, but got 'memref<1x53x1x1xi1>'\n",
      "loc(\"mps_select\"(\"(mpsFileLoc): /AppleInternal/Library/BuildRoots/495c257e-668e-11ee-93ce-926038f30c31/Library/Caches/com.apple.xbs/Sources/MetalPerformanceShadersGraph/mpsgraph/MetalPerformanceShadersGraph/Core/Files/MPSGraphUtilities.mm\":294:0)): error: 'anec.gain_offset_control' op result #0 must be 4D/5D memref of 16-bit float or 8-bit signed integer or 8-bit unsigned integer values, but got 'memref<1x53x1x1xi1>'\n"
     ]
    },
    {
     "name": "stdout",
     "output_type": "stream",
     "text": [
      "84/84 [==============================] - 1s 8ms/step - loss: 0.5701 - accuracy: 0.7204 - val_loss: 0.5323 - val_accuracy: 0.7314\n",
      "Epoch 3/100\n",
      "84/84 [==============================] - 1s 9ms/step - loss: 0.4924 - accuracy: 0.7598 - val_loss: 0.4652 - val_accuracy: 0.7629\n",
      "Epoch 4/100\n",
      "84/84 [==============================] - 1s 8ms/step - loss: 0.4305 - accuracy: 0.7886 - val_loss: 0.4132 - val_accuracy: 0.7869\n",
      "Epoch 5/100\n",
      "84/84 [==============================] - 1s 10ms/step - loss: 0.3843 - accuracy: 0.8083 - val_loss: 0.3750 - val_accuracy: 0.8042\n",
      "Epoch 6/100\n",
      "84/84 [==============================] - 1s 9ms/step - loss: 0.3508 - accuracy: 0.8241 - val_loss: 0.3485 - val_accuracy: 0.8305\n",
      "Epoch 7/100\n",
      "84/84 [==============================] - 1s 9ms/step - loss: 0.3266 - accuracy: 0.8426 - val_loss: 0.3301 - val_accuracy: 0.8432\n",
      "Epoch 8/100\n",
      "84/84 [==============================] - 1s 8ms/step - loss: 0.3100 - accuracy: 0.8543 - val_loss: 0.3175 - val_accuracy: 0.8440\n",
      "Epoch 9/100\n",
      "84/84 [==============================] - 1s 8ms/step - loss: 0.2984 - accuracy: 0.8586 - val_loss: 0.3086 - val_accuracy: 0.8485\n",
      "Epoch 10/100\n",
      "84/84 [==============================] - 1s 8ms/step - loss: 0.2899 - accuracy: 0.8659 - val_loss: 0.3018 - val_accuracy: 0.8515\n",
      "Epoch 11/100\n",
      "84/84 [==============================] - 1s 9ms/step - loss: 0.2835 - accuracy: 0.8680 - val_loss: 0.2968 - val_accuracy: 0.8575\n",
      "Epoch 12/100\n",
      "84/84 [==============================] - 1s 8ms/step - loss: 0.2786 - accuracy: 0.8710 - val_loss: 0.2930 - val_accuracy: 0.8567\n",
      "Epoch 13/100\n",
      "84/84 [==============================] - 1s 8ms/step - loss: 0.2749 - accuracy: 0.8723 - val_loss: 0.2899 - val_accuracy: 0.8612\n",
      "Epoch 14/100\n",
      "84/84 [==============================] - 1s 8ms/step - loss: 0.2718 - accuracy: 0.8734 - val_loss: 0.2877 - val_accuracy: 0.8605\n",
      "Epoch 15/100\n",
      "84/84 [==============================] - 1s 8ms/step - loss: 0.2692 - accuracy: 0.8760 - val_loss: 0.2850 - val_accuracy: 0.8597\n",
      "Epoch 16/100\n",
      "84/84 [==============================] - 1s 10ms/step - loss: 0.2670 - accuracy: 0.8772 - val_loss: 0.2839 - val_accuracy: 0.8620\n",
      "Epoch 17/100\n",
      "84/84 [==============================] - 1s 9ms/step - loss: 0.2651 - accuracy: 0.8785 - val_loss: 0.2824 - val_accuracy: 0.8612\n",
      "Epoch 18/100\n",
      "84/84 [==============================] - 1s 8ms/step - loss: 0.2634 - accuracy: 0.8783 - val_loss: 0.2814 - val_accuracy: 0.8620\n",
      "Epoch 19/100\n",
      "84/84 [==============================] - 1s 8ms/step - loss: 0.2619 - accuracy: 0.8787 - val_loss: 0.2809 - val_accuracy: 0.8627\n",
      "Epoch 20/100\n",
      "84/84 [==============================] - 1s 8ms/step - loss: 0.2606 - accuracy: 0.8805 - val_loss: 0.2796 - val_accuracy: 0.8642\n",
      "Epoch 21/100\n",
      "84/84 [==============================] - 1s 8ms/step - loss: 0.2593 - accuracy: 0.8803 - val_loss: 0.2782 - val_accuracy: 0.8642\n",
      "Epoch 22/100\n",
      "84/84 [==============================] - 1s 8ms/step - loss: 0.2582 - accuracy: 0.8798 - val_loss: 0.2773 - val_accuracy: 0.8642\n",
      "Epoch 23/100\n",
      "84/84 [==============================] - 1s 10ms/step - loss: 0.2571 - accuracy: 0.8817 - val_loss: 0.2764 - val_accuracy: 0.8657\n",
      "Epoch 24/100\n",
      "84/84 [==============================] - 1s 10ms/step - loss: 0.2562 - accuracy: 0.8843 - val_loss: 0.2762 - val_accuracy: 0.8672\n",
      "Epoch 25/100\n",
      "84/84 [==============================] - 1s 8ms/step - loss: 0.2553 - accuracy: 0.8835 - val_loss: 0.2754 - val_accuracy: 0.8687\n",
      "Epoch 26/100\n",
      "84/84 [==============================] - 1s 9ms/step - loss: 0.2545 - accuracy: 0.8843 - val_loss: 0.2748 - val_accuracy: 0.8695\n",
      "Epoch 27/100\n",
      "84/84 [==============================] - 1s 8ms/step - loss: 0.2537 - accuracy: 0.8839 - val_loss: 0.2749 - val_accuracy: 0.8710\n",
      "Epoch 28/100\n",
      "84/84 [==============================] - 1s 9ms/step - loss: 0.2531 - accuracy: 0.8837 - val_loss: 0.2743 - val_accuracy: 0.8717\n",
      "Epoch 29/100\n",
      "84/84 [==============================] - 1s 10ms/step - loss: 0.2524 - accuracy: 0.8837 - val_loss: 0.2736 - val_accuracy: 0.8717\n",
      "Epoch 30/100\n",
      "84/84 [==============================] - 1s 8ms/step - loss: 0.2518 - accuracy: 0.8848 - val_loss: 0.2731 - val_accuracy: 0.8717\n",
      "Epoch 31/100\n",
      "84/84 [==============================] - 1s 8ms/step - loss: 0.2513 - accuracy: 0.8850 - val_loss: 0.2730 - val_accuracy: 0.8717\n",
      "Epoch 32/100\n",
      "84/84 [==============================] - 1s 8ms/step - loss: 0.2506 - accuracy: 0.8847 - val_loss: 0.2725 - val_accuracy: 0.8717\n",
      "Epoch 33/100\n",
      "84/84 [==============================] - 1s 8ms/step - loss: 0.2501 - accuracy: 0.8858 - val_loss: 0.2719 - val_accuracy: 0.8725\n",
      "Epoch 34/100\n",
      "84/84 [==============================] - 1s 8ms/step - loss: 0.2495 - accuracy: 0.8854 - val_loss: 0.2713 - val_accuracy: 0.8732\n",
      "Epoch 35/100\n",
      "84/84 [==============================] - 1s 8ms/step - loss: 0.2491 - accuracy: 0.8862 - val_loss: 0.2713 - val_accuracy: 0.8732\n",
      "Epoch 36/100\n",
      "84/84 [==============================] - 1s 8ms/step - loss: 0.2485 - accuracy: 0.8877 - val_loss: 0.2708 - val_accuracy: 0.8762\n",
      "Epoch 37/100\n",
      "84/84 [==============================] - 1s 8ms/step - loss: 0.2481 - accuracy: 0.8867 - val_loss: 0.2708 - val_accuracy: 0.8755\n",
      "Epoch 38/100\n",
      "84/84 [==============================] - 1s 8ms/step - loss: 0.2475 - accuracy: 0.8856 - val_loss: 0.2703 - val_accuracy: 0.8770\n",
      "Epoch 39/100\n",
      "84/84 [==============================] - 1s 8ms/step - loss: 0.2472 - accuracy: 0.8867 - val_loss: 0.2700 - val_accuracy: 0.8777\n",
      "Epoch 40/100\n",
      "84/84 [==============================] - 1s 8ms/step - loss: 0.2467 - accuracy: 0.8880 - val_loss: 0.2698 - val_accuracy: 0.8762\n",
      "Epoch 41/100\n",
      "84/84 [==============================] - 1s 8ms/step - loss: 0.2463 - accuracy: 0.8877 - val_loss: 0.2697 - val_accuracy: 0.8785\n",
      "Epoch 42/100\n",
      "84/84 [==============================] - 1s 8ms/step - loss: 0.2459 - accuracy: 0.8871 - val_loss: 0.2695 - val_accuracy: 0.8755\n",
      "Epoch 43/100\n",
      "84/84 [==============================] - 1s 8ms/step - loss: 0.2454 - accuracy: 0.8873 - val_loss: 0.2692 - val_accuracy: 0.8785\n",
      "Epoch 44/100\n",
      "84/84 [==============================] - 1s 8ms/step - loss: 0.2450 - accuracy: 0.8880 - val_loss: 0.2687 - val_accuracy: 0.8785\n",
      "Epoch 45/100\n",
      "84/84 [==============================] - 1s 8ms/step - loss: 0.2446 - accuracy: 0.8873 - val_loss: 0.2686 - val_accuracy: 0.8777\n",
      "Epoch 46/100\n",
      "84/84 [==============================] - 1s 8ms/step - loss: 0.2442 - accuracy: 0.8878 - val_loss: 0.2681 - val_accuracy: 0.8770\n",
      "Epoch 47/100\n",
      "84/84 [==============================] - 1s 8ms/step - loss: 0.2439 - accuracy: 0.8875 - val_loss: 0.2674 - val_accuracy: 0.8755\n",
      "Epoch 48/100\n",
      "84/84 [==============================] - 1s 8ms/step - loss: 0.2435 - accuracy: 0.8875 - val_loss: 0.2673 - val_accuracy: 0.8762\n",
      "Epoch 49/100\n",
      "84/84 [==============================] - 1s 8ms/step - loss: 0.2430 - accuracy: 0.8892 - val_loss: 0.2671 - val_accuracy: 0.8770\n",
      "Epoch 50/100\n",
      "84/84 [==============================] - 1s 8ms/step - loss: 0.2427 - accuracy: 0.8884 - val_loss: 0.2668 - val_accuracy: 0.8762\n",
      "Epoch 51/100\n",
      "84/84 [==============================] - 1s 8ms/step - loss: 0.2423 - accuracy: 0.8890 - val_loss: 0.2668 - val_accuracy: 0.8785\n",
      "Epoch 52/100\n",
      "84/84 [==============================] - 1s 8ms/step - loss: 0.2420 - accuracy: 0.8886 - val_loss: 0.2667 - val_accuracy: 0.8777\n",
      "Epoch 53/100\n",
      "84/84 [==============================] - 1s 8ms/step - loss: 0.2416 - accuracy: 0.8884 - val_loss: 0.2663 - val_accuracy: 0.8777\n",
      "Epoch 54/100\n",
      "84/84 [==============================] - 1s 8ms/step - loss: 0.2413 - accuracy: 0.8884 - val_loss: 0.2661 - val_accuracy: 0.8770\n",
      "Epoch 55/100\n",
      "84/84 [==============================] - 1s 8ms/step - loss: 0.2410 - accuracy: 0.8905 - val_loss: 0.2660 - val_accuracy: 0.8777\n",
      "Epoch 56/100\n",
      "84/84 [==============================] - 1s 8ms/step - loss: 0.2406 - accuracy: 0.8901 - val_loss: 0.2657 - val_accuracy: 0.8755\n",
      "Epoch 57/100\n",
      "84/84 [==============================] - 1s 8ms/step - loss: 0.2403 - accuracy: 0.8905 - val_loss: 0.2660 - val_accuracy: 0.8770\n",
      "Epoch 58/100\n",
      "84/84 [==============================] - 1s 8ms/step - loss: 0.2399 - accuracy: 0.8899 - val_loss: 0.2655 - val_accuracy: 0.8740\n",
      "Epoch 59/100\n",
      "84/84 [==============================] - 1s 8ms/step - loss: 0.2397 - accuracy: 0.8907 - val_loss: 0.2658 - val_accuracy: 0.8762\n",
      "Epoch 60/100\n",
      "84/84 [==============================] - 1s 8ms/step - loss: 0.2393 - accuracy: 0.8901 - val_loss: 0.2654 - val_accuracy: 0.8762\n",
      "Epoch 61/100\n",
      "84/84 [==============================] - 1s 8ms/step - loss: 0.2389 - accuracy: 0.8903 - val_loss: 0.2656 - val_accuracy: 0.8777\n",
      "Epoch 62/100\n",
      "84/84 [==============================] - 1s 8ms/step - loss: 0.2387 - accuracy: 0.8903 - val_loss: 0.2652 - val_accuracy: 0.8770\n",
      "Epoch 63/100\n",
      "84/84 [==============================] - 1s 8ms/step - loss: 0.2384 - accuracy: 0.8899 - val_loss: 0.2651 - val_accuracy: 0.8785\n",
      "Epoch 64/100\n",
      "84/84 [==============================] - 1s 8ms/step - loss: 0.2381 - accuracy: 0.8908 - val_loss: 0.2649 - val_accuracy: 0.8777\n",
      "Epoch 65/100\n",
      "84/84 [==============================] - 1s 8ms/step - loss: 0.2376 - accuracy: 0.8907 - val_loss: 0.2641 - val_accuracy: 0.8770\n",
      "Epoch 66/100\n",
      "84/84 [==============================] - 1s 9ms/step - loss: 0.2375 - accuracy: 0.8910 - val_loss: 0.2646 - val_accuracy: 0.8762\n",
      "Epoch 67/100\n",
      "84/84 [==============================] - 1s 8ms/step - loss: 0.2372 - accuracy: 0.8918 - val_loss: 0.2638 - val_accuracy: 0.8770\n",
      "Epoch 68/100\n",
      "84/84 [==============================] - 1s 8ms/step - loss: 0.2369 - accuracy: 0.8905 - val_loss: 0.2638 - val_accuracy: 0.8785\n",
      "Epoch 69/100\n",
      "84/84 [==============================] - 1s 8ms/step - loss: 0.2367 - accuracy: 0.8914 - val_loss: 0.2639 - val_accuracy: 0.8762\n",
      "Epoch 70/100\n",
      "84/84 [==============================] - 1s 8ms/step - loss: 0.2364 - accuracy: 0.8923 - val_loss: 0.2636 - val_accuracy: 0.8792\n",
      "Epoch 71/100\n",
      "84/84 [==============================] - 1s 8ms/step - loss: 0.2360 - accuracy: 0.8910 - val_loss: 0.2635 - val_accuracy: 0.8777\n",
      "Epoch 72/100\n",
      "84/84 [==============================] - 1s 8ms/step - loss: 0.2358 - accuracy: 0.8918 - val_loss: 0.2638 - val_accuracy: 0.8762\n",
      "Epoch 73/100\n",
      "84/84 [==============================] - 1s 8ms/step - loss: 0.2356 - accuracy: 0.8908 - val_loss: 0.2636 - val_accuracy: 0.8777\n",
      "Epoch 74/100\n",
      "84/84 [==============================] - 1s 8ms/step - loss: 0.2352 - accuracy: 0.8920 - val_loss: 0.2638 - val_accuracy: 0.8755\n",
      "Epoch 75/100\n",
      "84/84 [==============================] - 1s 8ms/step - loss: 0.2350 - accuracy: 0.8916 - val_loss: 0.2637 - val_accuracy: 0.8762\n",
      "Epoch 76/100\n",
      "84/84 [==============================] - 1s 8ms/step - loss: 0.2348 - accuracy: 0.8918 - val_loss: 0.2631 - val_accuracy: 0.8755\n",
      "Epoch 77/100\n",
      "84/84 [==============================] - 1s 8ms/step - loss: 0.2344 - accuracy: 0.8914 - val_loss: 0.2628 - val_accuracy: 0.8762\n",
      "Epoch 78/100\n",
      "84/84 [==============================] - 1s 8ms/step - loss: 0.2343 - accuracy: 0.8912 - val_loss: 0.2626 - val_accuracy: 0.8770\n",
      "Epoch 79/100\n",
      "84/84 [==============================] - 1s 8ms/step - loss: 0.2340 - accuracy: 0.8923 - val_loss: 0.2630 - val_accuracy: 0.8747\n",
      "Epoch 80/100\n",
      "84/84 [==============================] - 1s 8ms/step - loss: 0.2338 - accuracy: 0.8925 - val_loss: 0.2628 - val_accuracy: 0.8762\n",
      "Epoch 81/100\n",
      "84/84 [==============================] - 1s 8ms/step - loss: 0.2334 - accuracy: 0.8931 - val_loss: 0.2633 - val_accuracy: 0.8755\n",
      "Epoch 82/100\n",
      "84/84 [==============================] - 1s 8ms/step - loss: 0.2332 - accuracy: 0.8927 - val_loss: 0.2624 - val_accuracy: 0.8807\n",
      "Epoch 83/100\n",
      "84/84 [==============================] - 1s 8ms/step - loss: 0.2330 - accuracy: 0.8931 - val_loss: 0.2627 - val_accuracy: 0.8732\n",
      "Epoch 84/100\n",
      "84/84 [==============================] - 1s 8ms/step - loss: 0.2327 - accuracy: 0.8942 - val_loss: 0.2624 - val_accuracy: 0.8777\n",
      "Epoch 85/100\n",
      "84/84 [==============================] - 1s 8ms/step - loss: 0.2325 - accuracy: 0.8927 - val_loss: 0.2624 - val_accuracy: 0.8785\n",
      "Epoch 86/100\n",
      "84/84 [==============================] - 1s 8ms/step - loss: 0.2323 - accuracy: 0.8923 - val_loss: 0.2622 - val_accuracy: 0.8762\n",
      "Epoch 87/100\n",
      "84/84 [==============================] - 1s 8ms/step - loss: 0.2320 - accuracy: 0.8931 - val_loss: 0.2619 - val_accuracy: 0.8762\n",
      "Epoch 88/100\n",
      "84/84 [==============================] - 1s 8ms/step - loss: 0.2317 - accuracy: 0.8927 - val_loss: 0.2624 - val_accuracy: 0.8770\n",
      "Epoch 89/100\n",
      "84/84 [==============================] - 1s 8ms/step - loss: 0.2315 - accuracy: 0.8927 - val_loss: 0.2619 - val_accuracy: 0.8792\n",
      "Epoch 90/100\n",
      "84/84 [==============================] - 1s 8ms/step - loss: 0.2312 - accuracy: 0.8938 - val_loss: 0.2613 - val_accuracy: 0.8777\n",
      "Epoch 91/100\n",
      "84/84 [==============================] - 1s 8ms/step - loss: 0.2311 - accuracy: 0.8929 - val_loss: 0.2624 - val_accuracy: 0.8792\n",
      "Epoch 92/100\n",
      "84/84 [==============================] - 1s 8ms/step - loss: 0.2308 - accuracy: 0.8937 - val_loss: 0.2622 - val_accuracy: 0.8785\n",
      "Epoch 93/100\n",
      "84/84 [==============================] - 1s 8ms/step - loss: 0.2306 - accuracy: 0.8940 - val_loss: 0.2621 - val_accuracy: 0.8777\n",
      "Epoch 94/100\n",
      "84/84 [==============================] - 1s 8ms/step - loss: 0.2304 - accuracy: 0.8940 - val_loss: 0.2617 - val_accuracy: 0.8777\n",
      "Epoch 95/100\n",
      "84/84 [==============================] - 1s 8ms/step - loss: 0.2302 - accuracy: 0.8935 - val_loss: 0.2620 - val_accuracy: 0.8785\n",
      "Epoch 96/100\n",
      "84/84 [==============================] - 1s 8ms/step - loss: 0.2300 - accuracy: 0.8931 - val_loss: 0.2618 - val_accuracy: 0.8777\n",
      "Epoch 97/100\n",
      "84/84 [==============================] - 1s 8ms/step - loss: 0.2297 - accuracy: 0.8931 - val_loss: 0.2617 - val_accuracy: 0.8785\n",
      "Epoch 98/100\n",
      "84/84 [==============================] - 1s 8ms/step - loss: 0.2295 - accuracy: 0.8937 - val_loss: 0.2612 - val_accuracy: 0.8770\n",
      "Epoch 99/100\n",
      "84/84 [==============================] - 1s 8ms/step - loss: 0.2293 - accuracy: 0.8942 - val_loss: 0.2613 - val_accuracy: 0.8770\n",
      "Epoch 100/100\n",
      "84/84 [==============================] - 1s 8ms/step - loss: 0.2290 - accuracy: 0.8937 - val_loss: 0.2610 - val_accuracy: 0.8785\n"
     ]
    }
   ],
   "source": [
    "# On compile le modèle avec l'optimiseur 'sgd' et la métrique 'accuracy', et la fonction de perte 'binary_crossentropy'\n",
    "model.compile(optimizer='sgd', loss= 'binary_crossentropy', metrics=['accuracy'])\n",
    "\n",
    "# Entraînement du modèle\n",
    "history = model.fit(X_train, y_train, epochs=100, batch_size=64, verbose=1,validation_data=(X_test, y_test))"
   ]
  },
  {
   "cell_type": "code",
   "execution_count": 38,
   "metadata": {},
   "outputs": [
    {
     "data": {
      "image/png": "[encoded data removed]",
      "text/plain": [
       "<Figure size 720x720 with 1 Axes>"
      ]
     },
     "metadata": {
      "needs_background": "light"
     },
     "output_type": "display_data"
    }
   ],
   "source": [
    "# Graphique d'évolution de l'accuracy durant l'entraînement\n",
    "\n",
    "plt.figure(figsize=(10, 10))\n",
    "plt.plot(history.history['accuracy'], label='train')\n",
    "plt.plot(history.history['val_accuracy'], label='test')\n",
    "plt.legend()\n",
    "plt.show()"
   ]
  },
  {
   "cell_type": "code",
   "execution_count": 39,
   "metadata": {},
   "outputs": [
    {
     "data": {
      "text/plain": [
       "<matplotlib.legend.Legend at 0x2f30f3ca0>"
      ]
     },
     "execution_count": 39,
     "metadata": {},
     "output_type": "execute_result"
    },
    {
     "data": {
      "image/png": "[encoded data removed]",
      "text/plain": [
       "<Figure size 720x720 with 1 Axes>"
      ]
     },
     "metadata": {
      "needs_background": "light"
     },
     "output_type": "display_data"
    }
   ],
   "source": [
    "# Graphique d'évolution de la fonction de perte durant l'entraînement\n",
    "\n",
    "plt.figure(figsize=(10, 10))\n",
    "plt.plot(history.history['loss'], label='train')\n",
    "plt.plot(history.history['val_loss'], label='test')\n",
    "plt.legend()"
   ]
  },
  {
   "cell_type": "code",
   "execution_count": 40,
   "metadata": {},
   "outputs": [
    {
     "name": "stdout",
     "output_type": "stream",
     "text": [
      "42/42 [==============================] - 0s 3ms/step\n"
     ]
    },
    {
     "name": "stderr",
     "output_type": "stream",
     "text": [
      "2023-12-05 17:10:32.199648: I tensorflow/core/grappler/optimizers/custom_graph_optimizer_registry.cc:113] Plugin optimizer for device_type GPU is enabled.\n"
     ]
    },
    {
     "data": {
      "text/plain": [
       "array([[ True],\n",
       "       [ True],\n",
       "       [False],\n",
       "       ...,\n",
       "       [False],\n",
       "       [ True],\n",
       "       [False]])"
      ]
     },
     "execution_count": 40,
     "metadata": {},
     "output_type": "execute_result"
    }
   ],
   "source": [
    "# Prédiction\n",
    "y_pred = model.predict(X_test)>0.5\n",
    "y_pred"
   ]
  },
  {
   "cell_type": "code",
   "execution_count": 41,
   "metadata": {},
   "outputs": [
    {
     "name": "stdout",
     "output_type": "stream",
     "text": [
      "Accuracy: 0.878469617404351\n"
     ]
    }
   ],
   "source": [
    "acc = accuracy_score(y_test, y_pred)\n",
    "print(f'Accuracy: {acc}')"
   ]
  },
  {
   "cell_type": "code",
   "execution_count": 42,
   "metadata": {},
   "outputs": [
    {
     "data": {
      "text/plain": [
       "Text(69.0, 0.5, 'Vraie Valeur')"
      ]
     },
     "execution_count": 42,
     "metadata": {},
     "output_type": "execute_result"
    },
    {
     "data": {
      "image/png": "[encoded data removed]",
      "text/plain": [
       "<Figure size 720x720 with 2 Axes>"
      ]
     },
     "metadata": {
      "needs_background": "light"
     },
     "output_type": "display_data"
    }
   ],
   "source": [
    "# Matrice de confusion\n",
    "from sklearn.metrics import confusion_matrix\n",
    "\n",
    "# Graphique de la matrice de confusion\n",
    "plt.figure(figsize=(10, 10))\n",
    "sns.heatmap(confusion_matrix(y_test, y_pred), annot=True, cmap='Blues')\n",
    "plt.title('Matrice de Confusion')\n",
    "plt.xlabel('Prédiction')\n",
    "plt.ylabel('Vraie Valeur')"
   ]
  },
  {
   "cell_type": "code",
   "execution_count": 43,
   "metadata": {},
   "outputs": [],
   "source": [
    "# Sauvegarde du modèle\n",
    "model.save('model.h5')"
   ]
  },
  {
   "cell_type": "code",
   "execution_count": 44,
   "metadata": {},
   "outputs": [],
   "source": [
    "# Import du modèle\n",
    "from tensorflow.keras.models import load_model\n",
    "\n",
    "model_load = load_model('model.h5')"
   ]
  },
  {
   "cell_type": "markdown",
   "metadata": {},
   "source": [
    "## Optimisation de l'entrainement \n",
    "\n",
    "### Callbacks\n",
    "\n",
    "Les callbacks sont des fonctions qui peuvent être appelées à différents moments lors de l'entraînement d'un modèle. Ils peuvent être utilisés pour effectuer des actions telles que l'enregistrement des points de contrôle du modèle, l'arrêt de l'entraînement, l'enregistrement des journaux, etc.\n",
    "\n",
    "### Early Stopping\n",
    "\n",
    "L'arrêt précoce est une technique utilisée pour éviter le surapprentissage. Il consiste à arrêter l'entraînement du modèle lorsque la performance sur l'ensemble de validation commence à se détériorer, c'est-à-dire lorsque la perte sur l'ensemble de validation commence à augmenter."
   ]
  },
  {
   "cell_type": "code",
   "execution_count": 45,
   "metadata": {},
   "outputs": [
    {
     "name": "stdout",
     "output_type": "stream",
     "text": [
      "Epoch 1/100\n"
     ]
    },
    {
     "name": "stderr",
     "output_type": "stream",
     "text": [
      "2023-12-05 17:10:32.631530: I tensorflow/core/grappler/optimizers/custom_graph_optimizer_registry.cc:113] Plugin optimizer for device_type GPU is enabled.\n",
      "loc(\"mps_select\"(\"(mpsFileLoc): /AppleInternal/Library/BuildRoots/495c257e-668e-11ee-93ce-926038f30c31/Library/Caches/com.apple.xbs/Sources/MetalPerformanceShadersGraph/mpsgraph/MetalPerformanceShadersGraph/Core/Files/MPSGraphUtilities.mm\":294:0)): error: 'anec.gain_offset_control' op result #0 must be 4D/5D memref of 16-bit float or 8-bit signed integer or 8-bit unsigned integer values, but got 'memref<1x32x1x1xi1>'\n",
      "loc(\"mps_select\"(\"(mpsFileLoc): /AppleInternal/Library/BuildRoots/495c257e-668e-11ee-93ce-926038f30c31/Library/Caches/com.apple.xbs/Sources/MetalPerformanceShadersGraph/mpsgraph/MetalPerformanceShadersGraph/Core/Files/MPSGraphUtilities.mm\":294:0)): error: 'anec.gain_offset_control' op result #0 must be 4D/5D memref of 16-bit float or 8-bit signed integer or 8-bit unsigned integer values, but got 'memref<1x32x1x1xi1>'\n",
      "loc(\"mps_select\"(\"(mpsFileLoc): /AppleInternal/Library/BuildRoots/495c257e-668e-11ee-93ce-926038f30c31/Library/Caches/com.apple.xbs/Sources/MetalPerformanceShadersGraph/mpsgraph/MetalPerformanceShadersGraph/Core/Files/MPSGraphUtilities.mm\":294:0)): error: 'anec.gain_offset_control' op result #0 must be 4D/5D memref of 16-bit float or 8-bit signed integer or 8-bit unsigned integer values, but got 'memref<1x32x1x1xi1>'\n",
      "loc(\"mps_select\"(\"(mpsFileLoc): /AppleInternal/Library/BuildRoots/495c257e-668e-11ee-93ce-926038f30c31/Library/Caches/com.apple.xbs/Sources/MetalPerformanceShadersGraph/mpsgraph/MetalPerformanceShadersGraph/Core/Files/MPSGraphUtilities.mm\":294:0)): error: 'anec.gain_offset_control' op result #0 must be 4D/5D memref of 16-bit float or 8-bit signed integer or 8-bit unsigned integer values, but got 'memref<1x32x1x1xi1>'\n",
      "loc(\"mps_select\"(\"(mpsFileLoc): /AppleInternal/Library/BuildRoots/495c257e-668e-11ee-93ce-926038f30c31/Library/Caches/com.apple.xbs/Sources/MetalPerformanceShadersGraph/mpsgraph/MetalPerformanceShadersGraph/Core/Files/MPSGraphUtilities.mm\":294:0)): error: 'anec.gain_offset_control' op result #0 must be 4D/5D memref of 16-bit float or 8-bit signed integer or 8-bit unsigned integer values, but got 'memref<1x32x1x1xi1>'\n"
     ]
    },
    {
     "name": "stdout",
     "output_type": "stream",
     "text": [
      "167/167 [==============================] - ETA: 0s - loss: 0.2293 - accuracy: 0.8944"
     ]
    },
    {
     "name": "stderr",
     "output_type": "stream",
     "text": [
      "loc(\"mps_select\"(\"(mpsFileLoc): /AppleInternal/Library/BuildRoots/495c257e-668e-11ee-93ce-926038f30c31/Library/Caches/com.apple.xbs/Sources/MetalPerformanceShadersGraph/mpsgraph/MetalPerformanceShadersGraph/Core/Files/MPSGraphUtilities.mm\":294:0)): error: 'anec.gain_offset_control' op result #0 must be 4D/5D memref of 16-bit float or 8-bit signed integer or 8-bit unsigned integer values, but got 'memref<1x20x1x1xi1>'\n",
      "loc(\"mps_select\"(\"(mpsFileLoc): /AppleInternal/Library/BuildRoots/495c257e-668e-11ee-93ce-926038f30c31/Library/Caches/com.apple.xbs/Sources/MetalPerformanceShadersGraph/mpsgraph/MetalPerformanceShadersGraph/Core/Files/MPSGraphUtilities.mm\":294:0)): error: 'anec.gain_offset_control' op result #0 must be 4D/5D memref of 16-bit float or 8-bit signed integer or 8-bit unsigned integer values, but got 'memref<1x20x1x1xi1>'\n",
      "loc(\"mps_select\"(\"(mpsFileLoc): /AppleInternal/Library/BuildRoots/495c257e-668e-11ee-93ce-926038f30c31/Library/Caches/com.apple.xbs/Sources/MetalPerformanceShadersGraph/mpsgraph/MetalPerformanceShadersGraph/Core/Files/MPSGraphUtilities.mm\":294:0)): error: 'anec.gain_offset_control' op result #0 must be 4D/5D memref of 16-bit float or 8-bit signed integer or 8-bit unsigned integer values, but got 'memref<1x20x1x1xi1>'\n",
      "loc(\"mps_select\"(\"(mpsFileLoc): /AppleInternal/Library/BuildRoots/495c257e-668e-11ee-93ce-926038f30c31/Library/Caches/com.apple.xbs/Sources/MetalPerformanceShadersGraph/mpsgraph/MetalPerformanceShadersGraph/Core/Files/MPSGraphUtilities.mm\":294:0)): error: 'anec.gain_offset_control' op result #0 must be 4D/5D memref of 16-bit float or 8-bit signed integer or 8-bit unsigned integer values, but got 'memref<1x20x1x1xi1>'\n",
      "loc(\"mps_select\"(\"(mpsFileLoc): /AppleInternal/Library/BuildRoots/495c257e-668e-11ee-93ce-926038f30c31/Library/Caches/com.apple.xbs/Sources/MetalPerformanceShadersGraph/mpsgraph/MetalPerformanceShadersGraph/Core/Files/MPSGraphUtilities.mm\":294:0)): error: 'anec.gain_offset_control' op result #0 must be 4D/5D memref of 16-bit float or 8-bit signed integer or 8-bit unsigned integer values, but got 'memref<1x20x1x1xi1>'\n",
      "2023-12-05 17:10:34.192166: I tensorflow/core/grappler/optimizers/custom_graph_optimizer_registry.cc:113] Plugin optimizer for device_type GPU is enabled.\n",
      "loc(\"mps_select\"(\"(mpsFileLoc): /AppleInternal/Library/BuildRoots/495c257e-668e-11ee-93ce-926038f30c31/Library/Caches/com.apple.xbs/Sources/MetalPerformanceShadersGraph/mpsgraph/MetalPerformanceShadersGraph/Core/Files/MPSGraphUtilities.mm\":294:0)): error: 'anec.gain_offset_control' op result #0 must be 4D/5D memref of 16-bit float or 8-bit signed integer or 8-bit unsigned integer values, but got 'memref<1x32x1x1xi1>'\n",
      "loc(\"mps_select\"(\"(mpsFileLoc): /AppleInternal/Library/BuildRoots/495c257e-668e-11ee-93ce-926038f30c31/Library/Caches/com.apple.xbs/Sources/MetalPerformanceShadersGraph/mpsgraph/MetalPerformanceShadersGraph/Core/Files/MPSGraphUtilities.mm\":294:0)): error: 'anec.gain_offset_control' op result #0 must be 4D/5D memref of 16-bit float or 8-bit signed integer or 8-bit unsigned integer values, but got 'memref<1x32x1x1xi1>'\n"
     ]
    },
    {
     "name": "stdout",
     "output_type": "stream",
     "text": [
      "\n",
      "Epoch 1: val_accuracy improved from -inf to 0.88222, saving model to best_model.h5\n",
      "167/167 [==============================] - 2s 10ms/step - loss: 0.2293 - accuracy: 0.8944 - val_loss: 0.2600 - val_accuracy: 0.8822\n",
      "Epoch 2/100\n",
      " 23/167 [===>..........................] - ETA: 1s - loss: 0.2190 - accuracy: 0.9008"
     ]
    },
    {
     "name": "stderr",
     "output_type": "stream",
     "text": [
      "loc(\"mps_select\"(\"(mpsFileLoc): /AppleInternal/Library/BuildRoots/495c257e-668e-11ee-93ce-926038f30c31/Library/Caches/com.apple.xbs/Sources/MetalPerformanceShadersGraph/mpsgraph/MetalPerformanceShadersGraph/Core/Files/MPSGraphUtilities.mm\":294:0)): error: 'anec.gain_offset_control' op result #0 must be 4D/5D memref of 16-bit float or 8-bit signed integer or 8-bit unsigned integer values, but got 'memref<1x21x1x1xi1>'\n",
      "loc(\"mps_select\"(\"(mpsFileLoc): /AppleInternal/Library/BuildRoots/495c257e-668e-11ee-93ce-926038f30c31/Library/Caches/com.apple.xbs/Sources/MetalPerformanceShadersGraph/mpsgraph/MetalPerformanceShadersGraph/Core/Files/MPSGraphUtilities.mm\":294:0)): error: 'anec.gain_offset_control' op result #0 must be 4D/5D memref of 16-bit float or 8-bit signed integer or 8-bit unsigned integer values, but got 'memref<1x21x1x1xi1>'\n"
     ]
    },
    {
     "name": "stdout",
     "output_type": "stream",
     "text": [
      "166/167 [============================>.] - ETA: 0s - loss: 0.2288 - accuracy: 0.8946\n",
      "Epoch 2: val_accuracy did not improve from 0.88222\n",
      "167/167 [==============================] - 1s 8ms/step - loss: 0.2290 - accuracy: 0.8946 - val_loss: 0.2609 - val_accuracy: 0.8792\n",
      "Epoch 3/100\n",
      "160/167 [===========================>..] - ETA: 0s - loss: 0.2287 - accuracy: 0.8938\n",
      "Epoch 3: val_accuracy did not improve from 0.88222\n",
      "167/167 [==============================] - 1s 8ms/step - loss: 0.2288 - accuracy: 0.8937 - val_loss: 0.2612 - val_accuracy: 0.8777\n",
      "Epoch 4/100\n",
      "161/167 [===========================>..] - ETA: 0s - loss: 0.2277 - accuracy: 0.8936\n",
      "Epoch 4: val_accuracy did not improve from 0.88222\n",
      "167/167 [==============================] - 1s 8ms/step - loss: 0.2282 - accuracy: 0.8937 - val_loss: 0.2612 - val_accuracy: 0.8815\n",
      "Epoch 5/100\n",
      "160/167 [===========================>..] - ETA: 0s - loss: 0.2290 - accuracy: 0.8934\n",
      "Epoch 5: val_accuracy did not improve from 0.88222\n",
      "167/167 [==============================] - 1s 8ms/step - loss: 0.2281 - accuracy: 0.8937 - val_loss: 0.2610 - val_accuracy: 0.8792\n",
      "Epoch 6/100\n",
      "163/167 [============================>.] - ETA: 0s - loss: 0.2265 - accuracy: 0.8957\n",
      "Epoch 6: val_accuracy did not improve from 0.88222\n",
      "167/167 [==============================] - 1s 8ms/step - loss: 0.2277 - accuracy: 0.8946 - val_loss: 0.2620 - val_accuracy: 0.8800\n",
      "Epoch 7/100\n",
      "160/167 [===========================>..] - ETA: 0s - loss: 0.2267 - accuracy: 0.8951\n",
      "Epoch 7: val_accuracy did not improve from 0.88222\n",
      "167/167 [==============================] - 1s 8ms/step - loss: 0.2273 - accuracy: 0.8946 - val_loss: 0.2611 - val_accuracy: 0.8785\n",
      "Epoch 8/100\n",
      "161/167 [===========================>..] - ETA: 0s - loss: 0.2267 - accuracy: 0.8946\n",
      "Epoch 8: val_accuracy did not improve from 0.88222\n",
      "167/167 [==============================] - 1s 8ms/step - loss: 0.2270 - accuracy: 0.8950 - val_loss: 0.2615 - val_accuracy: 0.8785\n",
      "Epoch 9/100\n",
      "165/167 [============================>.] - ETA: 0s - loss: 0.2272 - accuracy: 0.8953\n",
      "Epoch 9: val_accuracy did not improve from 0.88222\n",
      "167/167 [==============================] - 1s 8ms/step - loss: 0.2265 - accuracy: 0.8955 - val_loss: 0.2622 - val_accuracy: 0.8792\n",
      "Epoch 10/100\n",
      "164/167 [============================>.] - ETA: 0s - loss: 0.2277 - accuracy: 0.8946\n",
      "Epoch 10: val_accuracy did not improve from 0.88222\n",
      "167/167 [==============================] - 1s 8ms/step - loss: 0.2262 - accuracy: 0.8955 - val_loss: 0.2620 - val_accuracy: 0.8777\n",
      "Epoch 11/100\n",
      "166/167 [============================>.] - ETA: 0s - loss: 0.2260 - accuracy: 0.8963\n",
      "Epoch 11: val_accuracy did not improve from 0.88222\n",
      "167/167 [==============================] - 1s 8ms/step - loss: 0.2259 - accuracy: 0.8963 - val_loss: 0.2611 - val_accuracy: 0.8777\n",
      "Epoch 11: early stopping\n"
     ]
    },
    {
     "data": {
      "text/plain": [
       "<keras.callbacks.History at 0x2cfee3f10>"
      ]
     },
     "execution_count": 45,
     "metadata": {},
     "output_type": "execute_result"
    }
   ],
   "source": [
    "# callbbacks\n",
    "from tensorflow.keras.callbacks import EarlyStopping, ModelCheckpoint\n",
    "\n",
    "# ModelCheckpoint : permet de sauvegarder le modèle à chaque époque\n",
    "checkpoint_callback = ModelCheckpoint(\n",
    "    \n",
    "    filepath='best_model.h5',                       # spécifiez le chemin où le modèle sera sauvegardé\n",
    "    monitor='val_accuracy',                         # métrique à surveiller (par exemple, la précision sur l'ensemble de validation)\n",
    "    save_best_only=True,                            # sauvegarde uniquement le modèle avec les meilleurs poids\n",
    "    mode='max',                                     # le mode 'max' signifie que nous cherchons à maximiser la métrique surveillée\n",
    "    verbose=1                                       # affiche un message lorsque le modèle est sauvegardé\n",
    ")\n",
    "\n",
    "\n",
    "# EarlyStopping : permet d'arrêter l'entraînement lorsque la métrique surveillée cesse de s'améliorer\n",
    "early_stopping = EarlyStopping(monitor='val_loss', patience=10, verbose=1, mode='min')\n",
    "\n",
    "\n",
    "# Compilez le modèle avec la configuration souhaitée (par exemple, l'optimiseur, la fonction de perte, etc.)\n",
    "model.compile(optimizer='sgd', loss='binary_crossentropy', metrics=['accuracy'])\n",
    "\n",
    "# Utilisez le rappel ModelCheckpoint lors de l'entraînement\n",
    "model.fit(\n",
    "    X_train, y_train,                               # spécifiez vos données d'entraînement\n",
    "    epochs=100,                                     # nombre d'époques d'entraînement\n",
    "    validation_data=(X_test, y_test),               # spécifiez vos données de validation\n",
    "    callbacks=[early_stopping, checkpoint_callback]                 # utilisez le rappel ModelCheckpoint\n",
    ")"
   ]
  },
  {
   "cell_type": "code",
   "execution_count": 46,
   "metadata": {},
   "outputs": [
    {
     "name": "stderr",
     "output_type": "stream",
     "text": [
      "UsageError: Line magic function `%tensorboard` not found.\n"
     ]
    }
   ],
   "source": [
    "%tensorboard --logdir logs"
   ]
  },
  {
   "cell_type": "markdown",
   "metadata": {},
   "source": [
    "---\n",
    "# Exercice : Concepetion d'un modèle de Deep Learning\n",
    "\n",
    "1. Créer un modèle de Deep Learning avec TensorFlow pour résoudre le problème de classification binaire sur le jeu de données afin de prédir le genre des clients :\n",
    "    - Une couche d'entrée avec 10 neurones et une fonction d'activation `relu`\n",
    "    - Une couche cachée avec 10 neurones et une fonction d'activation `relu`\n",
    "    - Une couche de sortie avec 1 neurone et une fonction d'activation `sigmoid`\n",
    "\n",
    "2. Compiler le modèle avec l'optimiseur `adam`, la fonction de perte `binary_crossentropy` et la métrique `accuracy`\n",
    "\n",
    "3. Entraîner le modèle sur 100 époques avec un batch size de 32\n",
    "\n",
    "4. Afficher les courbes d'apprentissage\n",
    "\n",
    "5. Évaluer le modèle sur l'ensemble de test\n",
    "\n",
    "6. Afficher la matrice de confusion\n",
    "\n",
    "7. Afficher la précision, le rappel et le F1 score\n",
    "\n",
    "8. Sauvegarder le modèle"
   ]
  },
  {
   "cell_type": "code",
   "execution_count": null,
   "metadata": {},
   "outputs": [],
   "source": []
  },
  {
   "cell_type": "code",
   "execution_count": null,
   "metadata": {},
   "outputs": [],
   "source": []
  },
  {
   "cell_type": "code",
   "execution_count": null,
   "metadata": {},
   "outputs": [],
   "source": []
  },
  {
   "cell_type": "code",
   "execution_count": null,
   "metadata": {},
   "outputs": [],
   "source": []
  },
  {
   "cell_type": "code",
   "execution_count": null,
   "metadata": {},
   "outputs": [],
   "source": []
  }
 ],
 "metadata": {
  "kernelspec": {
   "display_name": "Python 3",
   "language": "python",
   "name": "python3"
  },
  "language_info": {
   "codemirror_mode": {
    "name": "ipython",
    "version": 3
   },
   "file_extension": ".py",
   "mimetype": "text/x-python",
   "name": "python",
   "nbconvert_exporter": "python",
   "pygments_lexer": "ipython3",
   "version": "3.10.6"
  }
 },
 "nbformat": 4,
 "nbformat_minor": 2
}
